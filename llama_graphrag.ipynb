{
 "cells": [
  {
   "cell_type": "markdown",
   "metadata": {},
   "source": [
    "### Imports"
   ]
  },
  {
   "cell_type": "code",
   "execution_count": 1,
   "metadata": {},
   "outputs": [],
   "source": [
    "import nest_asyncio\n",
    "import os\n",
    "from dotenv import load_dotenv\n",
    "from llama_index.llms.openai import OpenAI\n",
    "from llama_index.embeddings.openai import OpenAIEmbedding\n",
    "from llama_index.core import Settings\n",
    "from llama_parse import LlamaParse\n",
    "from copy import deepcopy\n",
    "from llama_index.core.schema import TextNode, Document\n",
    "from llama_index.core import VectorStoreIndex\n",
    "from llama_index.graph_stores.neo4j import Neo4jPGStore\n",
    "from llama_index.core.indices.property_graph import (\n",
    "    ImplicitPathExtractor,\n",
    "    SimpleLLMPathExtractor,\n",
    "    SchemaLLMPathExtractor\n",
    ")\n",
    "from llama_index.core import PropertyGraphIndex\n",
    "from llama_index.llms.openai import OpenAI\n",
    "from llama_index.embeddings.openai import OpenAIEmbedding\n",
    "from llama_index.core.indices.property_graph import VectorContextRetriever\n",
    "from llama_index.core import VectorStoreIndex\n",
    "from llama_index.core.query_engine import RetrieverQueryEngine\n",
    "from llama_index.core.retrievers import BaseRetriever\n",
    "from llama_index.core.schema import NodeWithScore\n",
    "from typing import List\n",
    "from llama_index.core.agent import FunctionCallingAgentWorker\n",
    "from llama_index.core.tools import QueryEngineTool, ToolMetadata\n",
    "from llama_index.core.query_engine import RetrieverQueryEngine\n",
    "from typing import Literal"
   ]
  },
  {
   "cell_type": "code",
   "execution_count": 2,
   "metadata": {},
   "outputs": [],
   "source": [
    "load_dotenv()\n",
    "nest_asyncio.apply()"
   ]
  },
  {
   "cell_type": "code",
   "execution_count": 3,
   "metadata": {},
   "outputs": [],
   "source": [
    "OPENAI_API_KEY=os.getenv(\"OPENAI_API_KEY\")"
   ]
  },
  {
   "cell_type": "markdown",
   "metadata": {},
   "source": [
    "### LLM & Embedding Model Setup"
   ]
  },
  {
   "cell_type": "code",
   "execution_count": 4,
   "metadata": {},
   "outputs": [],
   "source": [
    "llm = OpenAI(model=\"gpt-4o\")\n",
    "embed_model = OpenAIEmbedding(model=\"text-embedding-3-small\")\n",
    "\n",
    "Settings.llm = llm\n",
    "Settings.embed_model = embed_model"
   ]
  },
  {
   "cell_type": "markdown",
   "metadata": {},
   "source": [
    "### Parsing instruction"
   ]
  },
  {
   "cell_type": "code",
   "execution_count": 5,
   "metadata": {},
   "outputs": [
    {
     "name": "stderr",
     "output_type": "stream",
     "text": [
      "<>:1: SyntaxWarning: invalid escape sequence '\\p'\n",
      "<>:1: SyntaxWarning: invalid escape sequence '\\p'\n",
      "/var/folders/9n/dc_y7tpx57d4063y5zp8k58h0000gn/T/ipykernel_9593/2222350866.py:1: SyntaxWarning: invalid escape sequence '\\p'\n",
      "  parsing_instruction = \"\"\"\n"
     ]
    }
   ],
   "source": [
    "parsing_instruction = \"\"\"\n",
    "1. **Text**: Identify and extract all text content, including explanations, descriptions, and definitions.\n",
    "2. **Image**: Identify and extract all images, ensuring to capture diagrams, illustrations, and visual representations.\n",
    "3. **Graph**: Identify and extract all graphs, including line graphs, bar graphs, and any other graphical data representations.\n",
    "4. **Table**: Identify and extract all tables, capturing data and structured information presented in tabular form.\n",
    "5. **Practice Problems**: Identify and extract all practice problems, including exercises and questions for students to solve.\n",
    "6. **Examples**: Identify and extract all worked examples that demonstrate how to solve problems or apply concepts.\n",
    "\n",
    "#### Tagging Requirements:\n",
    "\n",
    "For each extracted element, tag the following:\n",
    "\n",
    "1. **Chapter**: The overarching division of the textbook in which the content is located.\n",
    "2. **Concept**: The specific subsection or topic within a chapter that the content pertains to.\n",
    "3. **Learning Outcome Name**: The most fundamental unit of learning, which is a combination of the concept, the cognitive ability (based on Bloom's taxonomy), and the context. For example:\n",
    "    - **Learning Outcome**: \"Calculating resistance using VI graph\"\n",
    "        - **Cognitive Ability**: Analyse\n",
    "        - **Concept**: Calculating resistance\n",
    "        - **Context**: VI graph\n",
    "\n",
    "4. **Cognitive Ability**: The level of cognitive ability required, based on Bloom's taxonomy (e.g., Remember, Understand, Apply, Analyze, Evaluate, Create).\n",
    "\n",
    "#### Special Instructions for Formulas and Equations:\n",
    "\n",
    "- For any formulas or equations encountered, ensure they are provided in LaTeX format, enclosed in `$$`. For example:\n",
    "    - Equation: $$ E = mc^2 $$\n",
    "    - Formula: $$ \\text{Area of a circle} = \\pi r^2 $$\n",
    "\n",
    "#### Additional Notes:\n",
    "\n",
    "- **Multiple Concepts and Learning Outcomes**: Each page can have multiple concepts, and each concept can have multiple learning outcomes.\n",
    "- **Contextual Awareness**: Ensure the context of each concept and learning outcome is accurately captured, reflecting the specific example, problem, or explanation provided.\n",
    "\n",
    "#### Example of Tagged Content:\n",
    "\n",
    "**Chapter**: Electricity  \n",
    "**Concept**: Ohm's Law  \n",
    "**Learning Outcome Name**: Calculating resistance using VI graph  \n",
    "- **Cognitive Ability**: Analyze  \n",
    "- **Context**: VI graph\n",
    "\n",
    "**Text**: \"Ohm's Law states that the current through a conductor between two points is directly proportional to the voltage across the two points.\"\n",
    "\n",
    "**Image**: [Image of a circuit diagram]\n",
    "\n",
    "**Graph**: [Graph showing Voltage vs. Current]\n",
    "\n",
    "**Table**: \n",
    "| Voltage (V) | Current (I) |\n",
    "|-------------|-------------|\n",
    "| 1           | 0.2         |\n",
    "| 2           | 0.4         |\n",
    "| 3           | 0.6         |\n",
    "\n",
    "**Practice Problems**:\n",
    "1. \"Calculate the resistance if the voltage is 5V and the current is 1A.\"\n",
    "\n",
    "**Examples**:\n",
    "- **Example 1**: \"If the voltage across a resistor is 10V and the current is 2A, the resistance can be calculated using Ohm's Law as follows: $$ R = \\frac{V}{I} = \\frac{10V}{2A} = 5 \\Omega $$\"\n",
    "\"\"\""
   ]
  },
  {
   "cell_type": "markdown",
   "metadata": {},
   "source": [
    "### Adjust the target pages here... (set start_page and end_page to None for all pages)"
   ]
  },
  {
   "cell_type": "code",
   "execution_count": 6,
   "metadata": {},
   "outputs": [
    {
     "data": {
      "text/plain": [
       "'14,15,16,17,18,19,20,21,22'"
      ]
     },
     "execution_count": 6,
     "metadata": {},
     "output_type": "execute_result"
    }
   ],
   "source": [
    "start_page = 14\n",
    "end_page = 22\n",
    "\n",
    "target_pages = \"\"\n",
    "if start_page is not None and end_page is not None:\n",
    "    target_pages = \",\".join([str(i) for i in range(start_page, end_page+1)])\n",
    "else:\n",
    "    target_pages = None\n",
    "\n",
    "target_pages"
   ]
  },
  {
   "cell_type": "code",
   "execution_count": 7,
   "metadata": {},
   "outputs": [
    {
     "name": "stdout",
     "output_type": "stream",
     "text": [
      "Started parsing the file under job_id a992e34b-4f69-40a6-a705-9c32f7118429\n"
     ]
    }
   ],
   "source": [
    "docs = LlamaParse(\n",
    "  result_type=\"markdown\", \n",
    "  target_pages=target_pages, \n",
    "  parsing_instruction=parsing_instruction,\n",
    "  use_vendor_multimodal_model=True,\n",
    "  vendor_multimodal_model_name=\"openai-gpt4o\",\n",
    "  vendor_multimodal_api_key=OPENAI_API_KEY,\n",
    ").load_data(\"book.pdf\")"
   ]
  },
  {
   "cell_type": "code",
   "execution_count": 8,
   "metadata": {},
   "outputs": [],
   "source": [
    "current_page = start_page or 0\n",
    "for doc in docs:\n",
    "    doc.metadata = {\"page\": current_page, \"course_id\": \"1\"}\n",
    "    current_page += 1"
   ]
  },
  {
   "cell_type": "code",
   "execution_count": 9,
   "metadata": {},
   "outputs": [
    {
     "data": {
      "text/plain": [
       "'# Real Numbers\\n\\n## 1.1 Introduction\\n\\nIn Class IX, you began your exploration of the world of real numbers and encountered irrational numbers. We continue our discussion on real numbers in this chapter. We begin with two very important properties of positive integers in Sections 1.2 and 1.3, namely the Euclid’s division algorithm and the Fundamental Theorem of Arithmetic.\\n\\nEuclid’s division algorithm, as the name suggests, has to do with divisibility of integers. Stated simply, it says any positive integer \\\\( a \\\\) can be divided by another positive integer \\\\( b \\\\) in such a way that it leaves a remainder \\\\( r \\\\) that is smaller than \\\\( b \\\\). Many of you probably recognise this as the usual long division process. Although this result is quite easy to state and understand, it has many applications related to the divisibility properties of integers. We touch upon a few of them, and use it mainly to compute the HCF of two positive integers.\\n\\nThe Fundamental Theorem of Arithmetic, on the other hand, has to do something with multiplication of positive integers. You already know that every composite number can be expressed as a product of primes in a unique way—this important fact is the Fundamental Theorem of Arithmetic. Again, while it is a result that is easy to state and understand, it has some very deep and significant applications in the field of mathematics. We use the Fundamental Theorem of Arithmetic for two main applications. First, we use it to prove the irrationality of many of the numbers you studied in Class IX, such as \\\\( \\\\sqrt{2} \\\\), \\\\( \\\\sqrt{3} \\\\) and \\\\( \\\\sqrt{5} \\\\). Second, we apply this theorem to explore when exactly the decimal expansion of a rational number, say \\\\( \\\\frac{p}{q} \\\\) (\\\\( q \\\\neq 0 \\\\)), is terminating and when it is non-terminating repeating. We do so by looking at the prime factorisation of the denominator \\\\( q \\\\) of \\\\( \\\\frac{p}{q} \\\\). You will see that the prime factorisation of \\\\( q \\\\) will completely reveal the nature of the decimal expansion of \\\\( \\\\frac{p}{q} \\\\).\\n\\nSo let us begin our exploration.\\n# 1.2 The Fundamental Theorem of Arithmetic\\n\\nIn your earlier classes, you have seen that any natural number can be written as a product of its prime factors. For instance, \\\\(2 = 2\\\\), \\\\(4 = 2 \\\\times 2\\\\), \\\\(253 = 11 \\\\times 23\\\\), and so on. Now, let us try and look at natural numbers from the other direction. That is, can any natural number be obtained by multiplying prime numbers? Let us see.\\n\\nTake any collection of prime numbers, say 2, 3, 7, 11 and 23. If we multiply some or all of these numbers, allowing them to repeat as many times as we wish, we can produce a large collection of positive integers (In fact, infinitely many). Let us list a few:\\n\\n\\\\[\\n\\\\begin{align*}\\n7 \\\\times 11 \\\\times 23 &= 1771 \\\\\\\\\\n2 \\\\times 3 \\\\times 7 \\\\times 11 \\\\times 23 &= 10626 \\\\\\\\\\n2^2 \\\\times 3 \\\\times 7 \\\\times 11 \\\\times 23 &= 21252 \\\\\\\\\\n3 \\\\times 7 \\\\times 11 \\\\times 23 &= 5313 \\\\\\\\\\n2^3 \\\\times 3 \\\\times 7^3 &= 8232 \\\\\\\\\\n\\\\end{align*}\\n\\\\]\\n\\nand so on.\\n\\nNow, let us suppose your collection of primes includes all the possible primes. What is your guess about the size of this collection? Does it contain only a finite number of integers, or infinitely many? In fact, there are infinitely many primes. So, if we combine all these primes in all possible ways, we will get an infinite collection of numbers, all the primes and all possible products of primes. The question is – can we produce all the composite numbers this way? What do you think? Do you think that there may be a composite number which is not the product of powers of primes? Before we answer this, let us factorise positive integers, that is, do the opposite of what we have done so far.\\n\\nWe are going to use the factor tree with which you are all familiar. Let us take some large number, say, 32760, and factorise it as shown.\\n\\n![Factor Tree](image.png)\\n# Real Numbers\\n\\nSo we have factorised 32760 as \\\\(2 \\\\times 2 \\\\times 2 \\\\times 3 \\\\times 3 \\\\times 5 \\\\times 7 \\\\times 13\\\\) as a product of primes, i.e., \\\\(32760 = 2^3 \\\\times 3^2 \\\\times 5 \\\\times 7 \\\\times 13\\\\) as a product of powers of primes. Let us try another number, say, 123456789. This can be written as \\\\(3^2 \\\\times 3803 \\\\times 3607\\\\). Of course, you have to check that 3803 and 3607 are primes! (Try it out for several other natural numbers yourself.) This leads us to a conjecture that every composite number can be written as the product of powers of primes. In fact, this statement is true, and is called the **Fundamental Theorem of Arithmetic** because of its basic crucial importance to the study of integers. Let us now formally state this theorem.\\n\\n**Theorem 1.1 (Fundamental Theorem of Arithmetic)**: *Every composite number can be expressed (factorised) as a product of primes, and this factorisation is unique, apart from the order in which the prime factors occur.*\\n\\nAn equivalent version of Theorem 1.2 was probably first recorded as Proposition 14 of Book IX in Euclid’s *Elements*, before it came to be known as the Fundamental Theorem of Arithmetic. However, the first correct proof was given by Carl Friedrich Gauss in his *Disquisitiones Arithmeticae*.\\n\\nCarl Friedrich Gauss is often referred to as the ‘Prince of Mathematicians’ and is considered one of the three greatest mathematicians of all time, along with Archimedes and Newton. He has made fundamental contributions to both mathematics and science.\\n\\n![Carl Friedrich Gauss (1777 – 1855)](https://upload.wikimedia.org/wikipedia/commons/thumb/4/4b/Carl_Friedrich_Gauss.jpg/220px-Carl_Friedrich_Gauss.jpg)\\n\\nThe Fundamental Theorem of Arithmetic says that every composite number can be factorised as a product of primes. Actually it says more. It says that given any composite number it can be factorised as a product of prime numbers in a ‘unique’ way, except for the order in which the primes occur. That is, given any composite number there is one and only one way to write it as a product of primes, as long as we are not particular about the order in which the primes occur. So, for example, we regard \\\\(2 \\\\times 3 \\\\times 5 \\\\times 7\\\\) as the same as \\\\(3 \\\\times 5 \\\\times 7 \\\\times 2\\\\), or any other possible order in which these primes are written. This fact is also stated in the following form:\\n\\n*The prime factorisation of a natural number is unique, except for the order of its factors.*\\n# Mathematics\\n\\nIn general, given a composite number \\\\( x \\\\), we factorise it as \\\\( x = p_1 p_2 \\\\ldots p_n \\\\), where \\\\( p_1, p_2, \\\\ldots, p_n \\\\) are primes and written in ascending order, i.e., \\\\( p_1 \\\\leq p_2 \\\\leq \\\\ldots \\\\leq p_n \\\\). If we combine the same primes, we will get powers of primes. For example,\\n\\n\\\\[ 32760 = 2 \\\\times 2 \\\\times 2 \\\\times 3 \\\\times 3 \\\\times 5 \\\\times 7 \\\\times 13 = 2^3 \\\\times 3^2 \\\\times 5 \\\\times 7 \\\\times 13 \\\\]\\n\\nOnce we have decided that the order will be ascending, then the way the number is factorised, is unique.\\n\\nThe Fundamental Theorem of Arithmetic has many applications, both within mathematics and in other fields. Let us look at some examples.\\n\\n**Example 1**: Consider the numbers \\\\( 4^n \\\\), where \\\\( n \\\\) is a natural number. Check whether there is any value of \\\\( n \\\\) for which \\\\( 4^n \\\\) ends with the digit zero.\\n\\n**Solution**: If the number \\\\( 4^n \\\\), for any \\\\( n \\\\), were to end with the digit zero, then it would be divisible by 5. That is, the prime factorisation of \\\\( 4^n \\\\) would contain the prime 5. This is not possible because \\\\( 4^n = (2^2)^n \\\\); so the only prime in the factorisation of \\\\( 4^n \\\\) is 2. So, the uniqueness of the Fundamental Theorem of Arithmetic guarantees that there are no other primes in the factorisation of \\\\( 4^n \\\\). So, there is no natural number \\\\( n \\\\) for which \\\\( 4^n \\\\) ends with the digit zero.\\n\\nYou have already learnt how to find the HCF and LCM of two positive integers using the Fundamental Theorem of Arithmetic in earlier classes, without realising it! This method is also called the prime factorisation method. Let us recall this method through an example.\\n\\n**Example 2**: Find the LCM and HCF of 6 and 20 by the prime factorisation method.\\n\\n**Solution**: We have:\\n\\\\[ 6 = 2^1 \\\\times 3^1 \\\\]\\n\\\\[ 20 = 2 \\\\times 2 \\\\times 5 = 2^2 \\\\times 5^1 \\\\]\\n\\nYou can find HCF(6, 20) = 2 and LCM(6, 20) = 2 × 2 × 3 × 5 = 60, as done in your earlier classes.\\n\\nNote that HCF(6, 20) = \\\\( 2^1 \\\\) = **Product of the smallest power of each common prime factor in the numbers.**\\n\\nLCM(6, 20) = \\\\( 2^2 \\\\times 3^1 \\\\times 5^1 \\\\) = **Product of the greatest power of each prime factor, involved in the numbers.**\\n\\nFrom the example above, you might have noticed that HCF(6, 20) × LCM(6, 20) = 6 × 20. In fact, we can verify that for any two positive integers \\\\( a \\\\) and \\\\( b \\\\),\\n\\n\\\\[ \\\\text{HCF}(a, b) \\\\times \\\\text{LCM}(a, b) = a \\\\times b \\\\]\\n\\nWe can use this result to find the LCM of two positive integers, if we have already found the HCF of the two positive integers.\\n\\n**Example 3**: Find the HCF of 96 and 404 by the prime factorisation method. Hence, find their LCM.\\n# Real Numbers\\n\\n**Solution**: The prime factorisation of 96 and 404 gives:\\n\\n\\\\[ 96 = 2^5 \\\\times 3, \\\\quad 404 = 2^2 \\\\times 101 \\\\]\\n\\nTherefore, the HCF of these two integers is \\\\( 2^2 = 4 \\\\).\\n\\nAlso,\\n\\n\\\\[ \\\\text{LCM} (96, 404) = \\\\frac{96 \\\\times 404}{\\\\text{HCF}(96, 404)} = \\\\frac{96 \\\\times 404}{4} = 9696 \\\\]\\n\\n**Example 4**: Find the HCF and LCM of 6, 72 and 120, using the prime factorisation method.\\n\\n**Solution**: We have:\\n\\n\\\\[ 6 = 2 \\\\times 3, \\\\quad 72 = 2^3 \\\\times 3^2, \\\\quad 120 = 2^3 \\\\times 3 \\\\times 5 \\\\]\\n\\nHere, \\\\( 2^1 \\\\) and \\\\( 3^1 \\\\) are the smallest powers of the common factors 2 and 3, respectively.\\n\\nSo,\\n\\n\\\\[ \\\\text{HCF} (6, 72, 120) = 2^1 \\\\times 3^1 = 2 \\\\times 3 = 6 \\\\]\\n\\n\\\\( 2^3, 3^2 \\\\) and \\\\( 5^1 \\\\) are the greatest powers of the prime factors 2, 3 and 5 respectively involved in the three numbers.\\n\\nSo,\\n\\n\\\\[ \\\\text{LCM} (6, 72, 120) = 2^3 \\\\times 3^2 \\\\times 5^1 = 360 \\\\]\\n\\n**Remark**: Notice, \\\\( 6 \\\\times 72 \\\\times 120 \\\\neq \\\\text{HCF} (6, 72, 120) \\\\times \\\\text{LCM} (6, 72, 120) \\\\). So, the product of three numbers is not equal to the product of their HCF and LCM.\\n\\n## EXERCISE 1.1\\n\\n1. Express each number as a product of its prime factors:\\n   - (i) 140\\n   - (ii) 156\\n   - (iii) 3825\\n   - (iv) 5005\\n   - (v) 7429\\n\\n2. Find the LCM and HCF of the following pairs of integers and verify that LCM × HCF = product of the two numbers.\\n   - (i) 26 and 91\\n   - (ii) 510 and 92\\n   - (iii) 336 and 54\\n\\n3. Find the LCM and HCF of the following integers by applying the prime factorisation method.\\n   - (i) 12, 15 and 21\\n   - (ii) 17, 23 and 29\\n   - (iii) 8, 9 and 25\\n\\n4. Given that HCF (306, 657) = 9, find LCM (306, 657).\\n\\n5. Check whether \\\\( 6^n \\\\) can end with the digit 0 for any natural number \\\\( n \\\\).\\n\\n6. Explain why \\\\( 7 \\\\times 11 \\\\times 13 + 13 \\\\) and \\\\( 7 \\\\times 6 \\\\times 5 \\\\times 4 \\\\times 3 \\\\times 2 \\\\times 1 + 5 \\\\) are composite numbers.\\n\\n7. There is a circular path around a sports field. Sonia takes 18 minutes to drive one round of the field, while Ravi takes 12 minutes for the same. Suppose they both start at the same time.\\n# 1.3 Revisiting Irrational Numbers\\n\\nIn Class IX, you were introduced to irrational numbers and many of their properties. You studied about their existence and how the rationals and the irrationals together made up the real numbers. You even studied how to locate irrationals on the number line. However, we did not prove that they were irrationals. In this section, we will prove that \\\\( \\\\sqrt{2}, \\\\sqrt{3}, \\\\sqrt{5} \\\\) and, in general, \\\\( \\\\sqrt{p} \\\\) is irrational, where \\\\( p \\\\) is a prime. One of the theorems, we use in our proof, is the Fundamental Theorem of Arithmetic.\\n\\nRecall, a number ‘\\\\( s \\\\)’ is called irrational if it cannot be written in the form \\\\( \\\\frac{p}{q} \\\\), where \\\\( p \\\\) and \\\\( q \\\\) are integers and \\\\( q \\\\neq 0 \\\\). Some examples of irrational numbers, with which you are already familiar, are:\\n\\n\\\\[ \\\\sqrt{2}, \\\\sqrt{3}, \\\\sqrt{5}, \\\\pi, -\\\\frac{\\\\sqrt{2}}{\\\\sqrt{3}}, 0.101101111011110 \\\\ldots, \\\\text{etc.} \\\\]\\n\\nBefore we prove that \\\\( \\\\sqrt{2} \\\\) is irrational, we need the following theorem, whose proof is based on the Fundamental Theorem of Arithmetic.\\n\\n**Theorem 1.2**: Let \\\\( p \\\\) be a prime number. If \\\\( p \\\\) divides \\\\( a^2 \\\\), then \\\\( p \\\\) divides \\\\( a \\\\), where \\\\( a \\\\) is a positive integer.\\n\\n**Proof**: Let the prime factorisation of \\\\( a \\\\) be as follows:\\n\\n\\\\[ a = p_1 p_2 \\\\cdots p_n, \\\\text{ where } p_1, p_2, \\\\cdots, p_n \\\\text{ are primes, not necessarily distinct.} \\\\]\\n\\nTherefore,\\n\\n\\\\[ a^2 = (p_1 p_2 \\\\cdots p_n)(p_1 p_2 \\\\cdots p_n) = p_1^2 p_2^2 \\\\cdots p_n^2. \\\\]\\n\\nNow, we are given that \\\\( p \\\\) divides \\\\( a^2 \\\\). Therefore, from the Fundamental Theorem of Arithmetic, it follows that \\\\( p \\\\) is one of the prime factors of \\\\( a^2 \\\\). However, using the uniqueness part of the Fundamental Theorem of Arithmetic, we realise that the only prime factors of \\\\( a^2 \\\\) are \\\\( p_1, p_2, \\\\cdots, p_n \\\\). So \\\\( p \\\\) is one of \\\\( p_1, p_2, \\\\cdots, p_n \\\\).\\n\\nNow, since \\\\( a = p_1 p_2 \\\\cdots p_n \\\\), \\\\( p \\\\) divides \\\\( a \\\\).\\n\\nWe are now ready to give a proof that \\\\( \\\\sqrt{2} \\\\) is irrational.\\n\\nThe proof is based on a technique called ‘proof by contradiction’. (This technique is discussed in some detail in Appendix 1).\\n\\n**Theorem 1.3**: \\\\( \\\\sqrt{2} \\\\) is irrational.\\n\\n**Proof**: Let us assume, to the contrary, that \\\\( \\\\sqrt{2} \\\\) is rational.\\n\\n*Not from the examination point of view.*\\n\\n# Real Numbers\\n\\nSo, we can find integers \\\\( r \\\\) and \\\\( s \\\\) (\\\\( \\\\neq 0 \\\\)) such that \\\\( \\\\sqrt{2} = \\\\frac{r}{s} \\\\).\\n\\nSuppose \\\\( r \\\\) and \\\\( s \\\\) have a common factor other than 1. Then, we divide by the common factor to get \\\\( \\\\sqrt{2} = \\\\frac{a}{b} \\\\), where \\\\( a \\\\) and \\\\( b \\\\) are coprime.\\n\\nSo, \\\\( b \\\\sqrt{2} = a \\\\).\\n\\nSquaring on both sides and rearranging, we get \\\\( 2b^2 = a^2 \\\\). Therefore, 2 divides \\\\( a^2 \\\\).\\n\\nNow, by Theorem 1.3, it follows that 2 divides \\\\( a \\\\).\\n\\nSo, we can write \\\\( a = 2c \\\\) for some integer \\\\( c \\\\).\\n\\nSubstituting for \\\\( a \\\\), we get \\\\( 2b^2 = 4c^2 \\\\), that is, \\\\( b^2 = 2c^2 \\\\).\\n\\nThis means that 2 divides \\\\( b^2 \\\\), and so 2 divides \\\\( b \\\\) (again using Theorem 1.3 with \\\\( p = 2 \\\\)).\\n\\nTherefore, \\\\( a \\\\) and \\\\( b \\\\) have at least 2 as a common factor.\\n\\nBut this contradicts the fact that \\\\( a \\\\) and \\\\( b \\\\) have no common factors other than 1.\\n\\nThis contradiction has arisen because of our incorrect assumption that \\\\( \\\\sqrt{2} \\\\) is rational.\\n\\nSo, we conclude that \\\\( \\\\sqrt{2} \\\\) is irrational.\\n\\n**Example 5**: Prove that \\\\( \\\\sqrt{3} \\\\) is irrational.\\n\\n**Solution**: Let us assume, to the contrary, that \\\\( \\\\sqrt{3} \\\\) is rational.\\n\\nThat is, we can find integers \\\\( a \\\\) and \\\\( b \\\\) (\\\\( \\\\neq 0 \\\\)) such that \\\\( \\\\sqrt{3} = \\\\frac{a}{b} \\\\).\\n\\nSuppose \\\\( a \\\\) and \\\\( b \\\\) have a common factor other than 1, then we can divide by the common factor, and assume that \\\\( a \\\\) and \\\\( b \\\\) are coprime.\\n\\nSo, \\\\( b \\\\sqrt{3} = a \\\\).\\n\\nSquaring on both sides, and rearranging, we get \\\\( 3b^2 = a^2 \\\\).\\n\\nTherefore, \\\\( a^2 \\\\) is divisible by 3, and by Theorem 1.3, it follows that \\\\( a \\\\) is also divisible by 3.\\n\\nSo, we can write \\\\( a = 3c \\\\) for some integer \\\\( c \\\\).\\n\\nSubstituting for \\\\( a \\\\), we get \\\\( 3b^2 = 9c^2 \\\\), that is, \\\\( b^2 = 3c^2 \\\\).\\n\\nThis means that \\\\( b^2 \\\\) is divisible by 3, and so \\\\( b \\\\) is also divisible by 3 (using Theorem 1.3 with \\\\( p = 3 \\\\)).\\n\\nTherefore, \\\\(a\\\\) and \\\\(b\\\\) have at least 3 as a common factor.\\n\\nBut this contradicts the fact that \\\\(a\\\\) and \\\\(b\\\\) are coprime.\\n\\nThis contradiction has arisen because of our incorrect assumption that \\\\(\\\\sqrt{3}\\\\) is rational.\\n\\nSo, we conclude that \\\\(\\\\sqrt{3}\\\\) is irrational.\\n\\nIn Class IX, we mentioned that:\\n\\n- the sum or difference of a rational and an irrational number is irrational and\\n- the product and quotient of a non-zero rational and irrational number is irrational.\\n\\nWe prove some particular cases here.\\n\\n**Example 6**: Show that \\\\(5 - \\\\sqrt{3}\\\\) is irrational.\\n\\n**Solution**: Let us assume, to the contrary, that \\\\(5 - \\\\sqrt{3}\\\\) is rational.\\n\\nThat is, we can find coprime \\\\(a\\\\) and \\\\(b\\\\) (\\\\(b \\\\neq 0\\\\)) such that \\\\(5 - \\\\sqrt{3} = \\\\frac{a}{b}\\\\).\\n\\nTherefore, \\\\(5 - \\\\frac{a}{b} = \\\\sqrt{3}\\\\).\\n\\nRearranging this equation, we get \\\\(\\\\sqrt{3} = 5 - \\\\frac{a}{b} = \\\\frac{5b - a}{b}\\\\).\\n\\nSince \\\\(a\\\\) and \\\\(b\\\\) are integers, we get \\\\(\\\\frac{5b - a}{b}\\\\) is rational, and so \\\\(\\\\sqrt{3}\\\\) is rational.\\n\\nBut this contradicts the fact that \\\\(\\\\sqrt{3}\\\\) is irrational.\\n\\nThis contradiction has arisen because of our incorrect assumption that \\\\(5 - \\\\sqrt{3}\\\\) is rational.\\n\\nSo, we conclude that \\\\(5 - \\\\sqrt{3}\\\\) is irrational.\\n\\n**Example 7**: Show that \\\\(3\\\\sqrt{2}\\\\) is irrational.\\n\\n**Solution**: Let us assume, to the contrary, that \\\\(3\\\\sqrt{2}\\\\) is rational.\\n\\nThat is, we can find coprime \\\\(a\\\\) and \\\\(b\\\\) (\\\\(b \\\\neq 0\\\\)) such that \\\\(3\\\\sqrt{2} = \\\\frac{a}{b}\\\\).\\n\\nRearranging, we get \\\\(\\\\sqrt{2} = \\\\frac{a}{3b}\\\\).\\n\\nSince \\\\(3\\\\), \\\\(a\\\\) and \\\\(b\\\\) are integers, \\\\(\\\\frac{a}{3b}\\\\) is rational, and so \\\\(\\\\sqrt{2}\\\\) is rational.\\n# Real Numbers\\n\\nBut this contradicts the fact that \\\\( \\\\sqrt{2} \\\\) is irrational.  \\nSo, we conclude that \\\\( 3\\\\sqrt{2} \\\\) is irrational.\\n\\n## EXERCISE 1.2\\n\\n1. Prove that \\\\( \\\\sqrt{5} \\\\) is irrational.\\n2. Prove that \\\\( 3 + 2\\\\sqrt{5} \\\\) is irrational.\\n3. Prove that the following are irrationals:\\n   - (i) \\\\( \\\\frac{1}{\\\\sqrt{2}} \\\\)\\n   - (ii) \\\\( 7\\\\sqrt{5} \\\\)\\n   - (iii) \\\\( 6 + \\\\sqrt{2} \\\\)\\n\\n## 1.4 Summary\\n\\nIn this chapter, you have studied the following points:\\n\\n1. **The Fundamental Theorem of Arithmetic**:\\n   Every composite number can be expressed (factorised) as a product of primes, and this factorisation is unique, apart from the order in which the prime factors occur.\\n2. If \\\\( p \\\\) is a prime and \\\\( p \\\\) divides \\\\( a^2 \\\\), then \\\\( p \\\\) divides \\\\( a \\\\), where \\\\( a \\\\) is a positive integer.\\n3. To prove that \\\\( \\\\sqrt{2} \\\\), \\\\( \\\\sqrt{3} \\\\) are irrationals.\\n\\n## A Note to the Reader\\n\\nYou have seen that:\\n\\n\\\\[ \\\\text{HCF} (p, q, r) \\\\times \\\\text{LCM} (p, q, r) \\\\neq p \\\\times q \\\\times r, \\\\]\\nwhere \\\\( p, q, r \\\\) are positive integers (see Example 8). However, the following results hold good for three numbers \\\\( p, q \\\\) and \\\\( r \\\\):\\n\\n\\\\[ \\\\text{LCM} (p, q, r) = \\\\frac{p \\\\cdot q \\\\cdot r \\\\cdot \\\\text{HCF} (p, q, r)}{\\\\text{HCF} (p, q) \\\\cdot \\\\text{HCF} (q, r) \\\\cdot \\\\text{HCF} (p, r)} \\\\]\\n\\n\\\\[ \\\\text{HCF} (p, q, r) = \\\\frac{p \\\\cdot q \\\\cdot r \\\\cdot \\\\text{LCM} (p, q, r)}{\\\\text{LCM} (p, q) \\\\cdot \\\\text{LCM} (q, r) \\\\cdot \\\\text{LCM} (p, r)} \\\\]'"
      ]
     },
     "execution_count": 9,
     "metadata": {},
     "output_type": "execute_result"
    }
   ],
   "source": [
    "text = \"\"\n",
    "for doc in docs:\n",
    "    text += doc.text\n",
    "text"
   ]
  },
  {
   "cell_type": "code",
   "execution_count": 10,
   "metadata": {},
   "outputs": [],
   "source": [
    "def get_sub_docs(docs):\n",
    "    \"\"\"Split docs into pages, by separator.\"\"\"\n",
    "    sub_docs = []\n",
    "    for doc in docs:\n",
    "        doc_chunks = doc.text.split(\"\\n---\\n\")\n",
    "        for doc_chunk in doc_chunks:\n",
    "            sub_doc = Document(\n",
    "                text=doc_chunk,\n",
    "                metadata=deepcopy(doc.metadata),\n",
    "            )\n",
    "            sub_docs.append(sub_doc)\n",
    "\n",
    "    return sub_docs"
   ]
  },
  {
   "cell_type": "code",
   "execution_count": 11,
   "metadata": {},
   "outputs": [],
   "source": [
    "sub_docs = get_sub_docs(docs)"
   ]
  },
  {
   "cell_type": "code",
   "execution_count": 13,
   "metadata": {},
   "outputs": [
    {
     "data": {
      "text/plain": [
       "{'page': 14, 'course_id': '1'}"
      ]
     },
     "execution_count": 13,
     "metadata": {},
     "output_type": "execute_result"
    }
   ],
   "source": [
    "sub_docs[0].metadata"
   ]
  },
  {
   "cell_type": "code",
   "execution_count": 14,
   "metadata": {},
   "outputs": [
    {
     "name": "stderr",
     "output_type": "stream",
     "text": [
      "Received notification from DBMS server: {severity: WARNING} {code: Neo.ClientNotification.Statement.FeatureDeprecationWarning} {category: DEPRECATION} {title: This feature is deprecated and will be removed in future versions.} {description: The procedure has a deprecated field. ('config' used by 'apoc.meta.graphSample' is deprecated.)} {position: line: 1, column: 1, offset: 0} for query: \"CALL apoc.meta.graphSample() YIELD nodes, relationships RETURN nodes, [rel in relationships | {name:apoc.any.property(rel, 'type'), count: apoc.any.property(rel, 'count')}] AS relationships\"\n"
     ]
    }
   ],
   "source": [
    "graph_store = Neo4jPGStore(\n",
    "    username=\"neo4j\",\n",
    "    password=\"password\",\n",
    "    url=\"bolt://localhost:7687\",\n",
    "    database=\"rag\",\n",
    ")\n",
    "vec_store = None"
   ]
  },
  {
   "cell_type": "markdown",
   "metadata": {},
   "source": [
    "### Run this only for the first time when the graph is not created"
   ]
  },
  {
   "cell_type": "code",
   "execution_count": 15,
   "metadata": {},
   "outputs": [
    {
     "name": "stderr",
     "output_type": "stream",
     "text": [
      "/Users/dheeraj/Developer/Personal/ml/neo4j-graph-rag/venv/lib/python3.12/site-packages/tqdm/auto.py:21: TqdmWarning: IProgress not found. Please update jupyter and ipywidgets. See https://ipywidgets.readthedocs.io/en/stable/user_install.html\n",
      "  from .autonotebook import tqdm as notebook_tqdm\n",
      "Parsing nodes: 100%|██████████| 10/10 [00:00<00:00, 2133.96it/s]\n",
      "Extracting paths from text with schema: 100%|██████████| 10/10 [00:33<00:00,  3.32s/it]\n",
      "Generating embeddings: 100%|██████████| 1/1 [00:01<00:00,  1.05s/it]\n",
      "Generating embeddings: 100%|██████████| 2/2 [00:01<00:00,  1.00it/s]\n",
      "Received notification from DBMS server: {severity: WARNING} {code: Neo.ClientNotification.Statement.FeatureDeprecationWarning} {category: DEPRECATION} {title: This feature is deprecated and will be removed in future versions.} {description: The procedure has a deprecated field. ('config' used by 'apoc.meta.graphSample' is deprecated.)} {position: line: 1, column: 1, offset: 0} for query: \"CALL apoc.meta.graphSample() YIELD nodes, relationships RETURN nodes, [rel in relationships | {name:apoc.any.property(rel, 'type'), count: apoc.any.property(rel, 'count')}] AS relationships\"\n"
     ]
    }
   ],
   "source": [
    "# Define entities and relations\n",
    "entities = Literal[ \"CONCEPT\", \"LEARNING_OUTCOME\", \"QUESTION\"]\n",
    "relations = Literal[ \"HAS_OUTCOME\", \"PREREQ_FOR\", \"SUPPORTS\"]\n",
    "\n",
    "# Define which entities can have which relations\n",
    "validation_schema = {\n",
    "    \"CONCEPT\": [\"HAS_OUTCOME\"],\n",
    "    \"LEARNING_OUTCOME\": [\"PREREQ_FOR\", \"SUPPORTS\"],\n",
    "    \"QUESTION\": [\"SUPPORTS\"]\n",
    "}\n",
    "\n",
    "# Define specific relation rules\n",
    "validation_schema = [\n",
    "    (\"CONCEPT\", \"HAS_OUTCOME\", \"LEARNING_OUTCOME\"),\n",
    "    (\"LEARNING_OUTCOME\", \"PREREQ_FOR\", \"LEARNING_OUTCOME\"),\n",
    "    (\"LEARNING_OUCOME\", \"SUPPORTS\", \"QUESTION\")\n",
    "]\n",
    "\n",
    "kg_extractor = SchemaLLMPathExtractor(\n",
    "    llm=llm,\n",
    "    max_triplets_per_chunk=10,\n",
    "    strict=False,\n",
    "    possible_entities=entities, \n",
    "    possible_relations=relations, \n",
    "    possible_relation_props=[\n",
    "        \"extra_description\"\n",
    "    ], \n",
    "    possible_entity_props=[\n",
    "        \"cognitive_ability\", \"text_snippet\", \"description\"\n",
    "    ], \n",
    "    num_workers=4,\n",
    "    kg_validation_schema=validation_schema\n",
    ")\n",
    "\n",
    "\n",
    "\n",
    "index = PropertyGraphIndex.from_documents(\n",
    "    sub_docs,\n",
    "    embed_model=OpenAIEmbedding(model_name=\"text-embedding-3-small\"),\n",
    "    kg_extractors=[kg_extractor], \n",
    "    property_graph_store=graph_store,\n",
    "    show_progress=True,\n",
    ")"
   ]
  },
  {
   "cell_type": "markdown",
   "metadata": {},
   "source": [
    "### Run this if the data is already converted into graph"
   ]
  },
  {
   "cell_type": "code",
   "execution_count": 16,
   "metadata": {},
   "outputs": [],
   "source": [
    "index = PropertyGraphIndex.from_existing(\n",
    "    graph_store,\n",
    "    embed_model=OpenAIEmbedding(model_name=\"text-embedding-3-small\"),\n",
    "    kg_extractors=[\n",
    "        ImplicitPathExtractor(),\n",
    "        SimpleLLMPathExtractor(\n",
    "            llm=OpenAI(model=\"gpt-3.5-turbo\", temperature=0.3),\n",
    "            num_workers=4,\n",
    "            max_paths_per_chunk=10,\n",
    "        ),\n",
    "    ],\n",
    "    show_progress=True,\n",
    ")"
   ]
  },
  {
   "cell_type": "markdown",
   "metadata": {},
   "source": [
    "### Retriever"
   ]
  },
  {
   "cell_type": "code",
   "execution_count": 17,
   "metadata": {},
   "outputs": [],
   "source": [
    "kg_retriever = VectorContextRetriever(\n",
    "    index.property_graph_store,\n",
    "    embed_model=OpenAIEmbedding(model_name=\"text-embedding-3-small\"),\n",
    "    similarity_top_k=2,\n",
    "    path_depth=1,\n",
    "    include_text=True,\n",
    ")"
   ]
  },
  {
   "cell_type": "markdown",
   "metadata": {},
   "source": [
    "### Query"
   ]
  },
  {
   "cell_type": "code",
   "execution_count": 18,
   "metadata": {},
   "outputs": [],
   "source": [
    "query = \"\"\"\n",
    "Fundamental Theorem of Arithmetic\n",
    "\"\"\""
   ]
  },
  {
   "cell_type": "markdown",
   "metadata": {},
   "source": [
    "### Print Nodes Response"
   ]
  },
  {
   "cell_type": "code",
   "execution_count": 20,
   "metadata": {},
   "outputs": [
    {
     "name": "stdout",
     "output_type": "stream",
     "text": [
      "5\n",
      ">> IDX: 0, Here are some facts extracted from the provided text:\n",
      "\n",
      "The Fundamental Theorem of Arithmetic ({'page': 22, 'name': 'The Fundamental Theorem of Arithmetic', 'course_id': '1', 'triplet_source_id': 'cdd15857-c8e5-49ec-a2d1-c356245020d4'}) -> HAS_OUTCOME ({'page': 22, 'course_id': '1', 'triplet_source_id': 'cdd15857-c8e5-49ec-a2d1-c356245020d4'}) -> The factorisation of composite numbers is unique apart from the order of prime factors ({'page': 22, 'name': 'The factorisation of composite numbers is unique apart from the order of prime factors', 'course_id': '1', 'triplet_source_id': 'cdd15857-c8e5-49ec-a2d1-c356245020d4'})\n",
      "The Fundamental Theorem of Arithmetic ({'page': 22, 'name': 'The Fundamental Theorem of Arithmetic', 'course_id': '1', 'triplet_source_id': 'cdd15857-c8e5-49ec-a2d1-c356245020d4'}) -> HAS_OUTCOME ({'page': 22, 'course_id': '1', 'triplet_source_id': 'cdd15857-c8e5-49ec-a2d1-c356245020d4'}) -> Every composite number can be expressed as a product of primes ({'page': 22, 'name': 'Every composite number can be expressed as a product of primes', 'course_id': '1', 'triplet_source_id': 'cdd15857-c8e5-49ec-a2d1-c356245020d4'})\n",
      "\n",
      "# Real Numbers\n",
      "\n",
      "But this contradicts the fact that \\( \\sqrt{2} \\) is irrational.  \n",
      "So, we conclude that \\( 3\\sqrt{2} \\) is irrational.\n",
      "\n",
      "## EXERCISE 1.2\n",
      "\n",
      "1. Prove that \\( \\sqrt{5} \\) is irrational.\n",
      "2. Prove that \\( 3 + 2\\sqrt{5} \\) is irrational.\n",
      "3. Prove that the following are irrationals:\n",
      "   - (i) \\( \\frac{1}{\\sqrt{2}} \\)\n",
      "   - (ii) \\( 7\\sqrt{5} \\)\n",
      "   - (iii) \\( 6 + \\sqrt{2} \\)\n",
      "\n",
      "## 1.4 Summary\n",
      "\n",
      "In this chapter, you have studied the following points:\n",
      "\n",
      "1. **The Fundamental Theorem of Arithmetic**:\n",
      "   Every composite number can be expressed (factorised) as a product of primes, and this factorisation is unique, apart from the order in which the prime factors occur.\n",
      "2. If \\( p \\) is a prime and \\( p \\) divides \\( a^2 \\), then \\( p \\) divides \\( a \\), where \\( a \\) is a positive integer.\n",
      "3. To prove that \\( \\sqrt{2} \\), \\( \\sqrt{3} \\) are irrationals.\n",
      "metadata {'page': 22, 'course_id': '1'}\n",
      ">> IDX: 1, Here are some facts extracted from the provided text:\n",
      "\n",
      "Real Numbers ({'page': 20, 'name': 'Real Numbers', 'course_id': '1', 'triplet_source_id': 'f79ea856-5bf7-424d-89c2-45d86d84c928'}) -> PREREQ_FOR ({'page': 14, 'course_id': '1', 'triplet_source_id': '88c0e677-ee20-4f29-ba8e-dc5a274bfaf1'}) -> Fundamental Theorem of Arithmetic ({'page': 19, 'description': 'Every integer greater than 1 is either a prime number or can be uniquely factorized as a product of prime numbers.', 'name': 'Fundamental Theorem of Arithmetic', 'course_id': '1', 'triplet_source_id': '87a52369-2ace-47af-98d3-716a1a75096c'})\n",
      "\n",
      "# Real Numbers\n",
      "\n",
      "So, we can find integers \\( r \\) and \\( s \\) (\\( \\neq 0 \\)) such that \\( \\sqrt{2} = \\frac{r}{s} \\).\n",
      "\n",
      "Suppose \\( r \\) and \\( s \\) have a common factor other than 1. Then, we divide by the common factor to get \\( \\sqrt{2} = \\frac{a}{b} \\), where \\( a \\) and \\( b \\) are coprime.\n",
      "\n",
      "So, \\( b \\sqrt{2} = a \\).\n",
      "\n",
      "Squaring on both sides and rearranging, we get \\( 2b^2 = a^2 \\). Therefore, 2 divides \\( a^2 \\).\n",
      "\n",
      "Now, by Theorem 1.3, it follows that 2 divides \\( a \\).\n",
      "\n",
      "So, we can write \\( a = 2c \\) for some integer \\( c \\).\n",
      "\n",
      "Substituting for \\( a \\), we get \\( 2b^2 = 4c^2 \\), that is, \\( b^2 = 2c^2 \\).\n",
      "\n",
      "This means that 2 divides \\( b^2 \\), and so 2 divides \\( b \\) (again using Theorem 1.3 with \\( p = 2 \\)).\n",
      "\n",
      "Therefore, \\( a \\) and \\( b \\) have at least 2 as a common factor.\n",
      "\n",
      "But this contradicts the fact that \\( a \\) and \\( b \\) have no common factors other than 1.\n",
      "\n",
      "This contradiction has arisen because of our incorrect assumption that \\( \\sqrt{2} \\) is rational.\n",
      "\n",
      "So, we conclude that \\( \\sqrt{2} \\) is irrational.\n",
      "\n",
      "**Example 5**: Prove that \\( \\sqrt{3} \\) is irrational.\n",
      "\n",
      "**Solution**: Let us assume, to the contrary, that \\( \\sqrt{3} \\) is rational.\n",
      "\n",
      "That is, we can find integers \\( a \\) and \\( b \\) (\\( \\neq 0 \\)) such that \\( \\sqrt{3} = \\frac{a}{b} \\).\n",
      "\n",
      "Suppose \\( a \\) and \\( b \\) have a common factor other than 1, then we can divide by the common factor, and assume that \\( a \\) and \\( b \\) are coprime.\n",
      "\n",
      "So, \\( b \\sqrt{3} = a \\).\n",
      "\n",
      "Squaring on both sides, and rearranging, we get \\( 3b^2 = a^2 \\).\n",
      "\n",
      "Therefore, \\( a^2 \\) is divisible by 3, and by Theorem 1.3, it follows that \\( a \\) is also divisible by 3.\n",
      "\n",
      "So, we can write \\( a = 3c \\) for some integer \\( c \\).\n",
      "\n",
      "Substituting for \\( a \\), we get \\( 3b^2 = 9c^2 \\), that is, \\( b^2 = 3c^2 \\).\n",
      "\n",
      "This means that \\( b^2 \\) is divisible by 3, and so \\( b \\) is also divisible by 3 (using Theorem 1.3 with \\( p = 3 \\)).\n",
      "metadata {'page': 20, 'course_id': '1'}\n",
      ">> IDX: 2, Here are some facts extracted from the provided text:\n",
      "\n",
      "Fundamental Theorem of Arithmetic ({'page': 19, 'description': 'Every integer greater than 1 is either a prime number or can be uniquely factorized as a product of prime numbers.', 'name': 'Fundamental Theorem of Arithmetic', 'course_id': '1', 'triplet_source_id': '87a52369-2ace-47af-98d3-716a1a75096c'}) -> SUPPORTS ({'page': 19, 'course_id': '1', 'triplet_source_id': '87a52369-2ace-47af-98d3-716a1a75096c'}) -> Proof of Irrationality ({'page': 19, 'description': 'The proof that certain numbers are irrational, such as √2, √3, and √5.', 'name': 'Proof of Irrationality', 'course_id': '1', 'triplet_source_id': '87a52369-2ace-47af-98d3-716a1a75096c'})\n",
      "Fundamental Theorem of Arithmetic ({'page': 19, 'description': 'Every integer greater than 1 is either a prime number or can be uniquely factorized as a product of prime numbers.', 'name': 'Fundamental Theorem of Arithmetic', 'course_id': '1', 'triplet_source_id': '87a52369-2ace-47af-98d3-716a1a75096c'}) -> HAS_OUTCOME ({'page': 17, 'course_id': '1', 'triplet_source_id': 'c7cf7f02-0700-46d8-9410-2aef990b4288'}) -> Uniqueness of prime factorisation ({'page': 17, 'description': 'The way a number is factorised into primes is unique if the order is ascending.', 'name': 'Uniqueness of prime factorisation', 'course_id': '1', 'triplet_source_id': 'c7cf7f02-0700-46d8-9410-2aef990b4288'})\n",
      "Fundamental Theorem of Arithmetic ({'page': 19, 'description': 'Every integer greater than 1 is either a prime number or can be uniquely factorized as a product of prime numbers.', 'name': 'Fundamental Theorem of Arithmetic', 'course_id': '1', 'triplet_source_id': '87a52369-2ace-47af-98d3-716a1a75096c'}) -> HAS_OUTCOME ({'page': 16, 'course_id': '1', 'triplet_source_id': '49316092-49e1-4db1-8ecd-0af9493a9791'}) -> Composite number factorisation ({'page': 16, 'description': 'Every composite number can be factorised as a product of primes in a unique way, except for the order in which the primes occur.', 'name': 'Composite number factorisation', 'course_id': '1', 'triplet_source_id': '49316092-49e1-4db1-8ecd-0af9493a9791'})\n",
      "Fundamental Theorem of Arithmetic ({'page': 19, 'description': 'Every integer greater than 1 is either a prime number or can be uniquely factorized as a product of prime numbers.', 'name': 'Fundamental Theorem of Arithmetic', 'course_id': '1', 'triplet_source_id': '87a52369-2ace-47af-98d3-716a1a75096c'}) -> HAS_OUTCOME ({'page': 16, 'course_id': '1', 'triplet_source_id': '49316092-49e1-4db1-8ecd-0af9493a9791'}) -> Understanding composite numbers ({'page': 16, 'description': 'Recognising that every composite number can be written as a product of prime numbers.', 'name': 'Understanding composite numbers', 'course_id': '1', 'triplet_source_id': '49316092-49e1-4db1-8ecd-0af9493a9791'})\n",
      "Fundamental Theorem of Arithmetic ({'page': 19, 'description': 'Every integer greater than 1 is either a prime number or can be uniquely factorized as a product of prime numbers.', 'name': 'Fundamental Theorem of Arithmetic', 'course_id': '1', 'triplet_source_id': '87a52369-2ace-47af-98d3-716a1a75096c'}) -> PREREQ_FOR ({'page': 16, 'course_id': '1', 'triplet_source_id': '49316092-49e1-4db1-8ecd-0af9493a9791'}) -> Prime factorisation uniqueness ({'page': 16, 'description': 'The prime factorisation of a natural number is unique, except for the order of its factors.', 'name': 'Prime factorisation uniqueness', 'course_id': '1', 'triplet_source_id': '49316092-49e1-4db1-8ecd-0af9493a9791'})\n",
      "Fundamental Theorem of Arithmetic ({'page': 19, 'description': 'Every integer greater than 1 is either a prime number or can be uniquely factorized as a product of prime numbers.', 'name': 'Fundamental Theorem of Arithmetic', 'course_id': '1', 'triplet_source_id': '87a52369-2ace-47af-98d3-716a1a75096c'}) -> HAS_OUTCOME ({'page': 17, 'course_id': '1', 'triplet_source_id': 'c7cf7f02-0700-46d8-9410-2aef990b4288'}) -> Applications in mathematics and other fields ({'page': 17, 'description': 'The Fundamental Theorem of Arithmetic has many applications within mathematics and in other fields.', 'name': 'Applications in mathematics and other fields', 'course_id': '1', 'triplet_source_id': 'c7cf7f02-0700-46d8-9410-2aef990b4288'})\n",
      "Fundamental Theorem of Arithmetic ({'page': 19, 'description': 'Every integer greater than 1 is either a prime number or can be uniquely factorized as a product of prime numbers.', 'name': 'Fundamental Theorem of Arithmetic', 'course_id': '1', 'triplet_source_id': '87a52369-2ace-47af-98d3-716a1a75096c'}) -> HAS_OUTCOME ({'page': 14, 'course_id': '1', 'triplet_source_id': '88c0e677-ee20-4f29-ba8e-dc5a274bfaf1'}) -> Understanding of multiplication of positive integers ({'page': 14, 'description': 'Every composite number can be expressed as a product of primes in a unique way.', 'name': 'Understanding of multiplication of positive integers', 'course_id': '1', 'triplet_source_id': '88c0e677-ee20-4f29-ba8e-dc5a274bfaf1'})\n",
      "Fundamental Theorem of Arithmetic ({'page': 19, 'description': 'Every integer greater than 1 is either a prime number or can be uniquely factorized as a product of prime numbers.', 'name': 'Fundamental Theorem of Arithmetic', 'course_id': '1', 'triplet_source_id': '87a52369-2ace-47af-98d3-716a1a75096c'}) -> SUPPORTS ({'page': 16, 'course_id': '1', 'triplet_source_id': '49316092-49e1-4db1-8ecd-0af9493a9791'}) -> Understanding prime factorisation ({'page': 16, 'description': 'Recognising that the order of prime factors does not affect the uniqueness of the factorisation.', 'name': 'Understanding prime factorisation', 'course_id': '1', 'triplet_source_id': '49316092-49e1-4db1-8ecd-0af9493a9791'})\n",
      "Fundamental Theorem of Arithmetic ({'page': 19, 'description': 'Every integer greater than 1 is either a prime number or can be uniquely factorized as a product of prime numbers.', 'name': 'Fundamental Theorem of Arithmetic', 'course_id': '1', 'triplet_source_id': '87a52369-2ace-47af-98d3-716a1a75096c'}) -> HAS_OUTCOME ({'page': 14, 'course_id': '1', 'triplet_source_id': '88c0e677-ee20-4f29-ba8e-dc5a274bfaf1'}) -> Proof of irrationality of numbers ({'page': 14, 'description': 'Use the Fundamental Theorem of Arithmetic to prove the irrationality of numbers such as √2, √3, and √5.', 'name': 'Proof of irrationality of numbers', 'course_id': '1', 'triplet_source_id': '88c0e677-ee20-4f29-ba8e-dc5a274bfaf1'})\n",
      "Fundamental Theorem of Arithmetic ({'page': 19, 'description': 'Every integer greater than 1 is either a prime number or can be uniquely factorized as a product of prime numbers.', 'name': 'Fundamental Theorem of Arithmetic', 'course_id': '1', 'triplet_source_id': '87a52369-2ace-47af-98d3-716a1a75096c'}) -> HAS_OUTCOME ({'page': 14, 'course_id': '1', 'triplet_source_id': '88c0e677-ee20-4f29-ba8e-dc5a274bfaf1'}) -> Understanding decimal expansion of rational numbers ({'page': 14, 'description': 'Apply the Fundamental Theorem of Arithmetic to explore when the decimal expansion of a rational number is terminating and when it is non-terminating repeating.', 'name': 'Understanding decimal expansion of rational numbers', 'course_id': '1', 'triplet_source_id': '88c0e677-ee20-4f29-ba8e-dc5a274bfaf1'})\n",
      "\n",
      "# 1.3 Revisiting Irrational Numbers\n",
      "\n",
      "In Class IX, you were introduced to irrational numbers and many of their properties. You studied about their existence and how the rationals and the irrationals together made up the real numbers. You even studied how to locate irrationals on the number line. However, we did not prove that they were irrationals. In this section, we will prove that \\( \\sqrt{2}, \\sqrt{3}, \\sqrt{5} \\) and, in general, \\( \\sqrt{p} \\) is irrational, where \\( p \\) is a prime. One of the theorems, we use in our proof, is the Fundamental Theorem of Arithmetic.\n",
      "\n",
      "Recall, a number ‘\\( s \\)’ is called irrational if it cannot be written in the form \\( \\frac{p}{q} \\), where \\( p \\) and \\( q \\) are integers and \\( q \\neq 0 \\). Some examples of irrational numbers, with which you are already familiar, are:\n",
      "\n",
      "\\[ \\sqrt{2}, \\sqrt{3}, \\sqrt{5}, \\pi, -\\frac{\\sqrt{2}}{\\sqrt{3}}, 0.101101111011110 \\ldots, \\text{etc.} \\]\n",
      "\n",
      "Before we prove that \\( \\sqrt{2} \\) is irrational, we need the following theorem, whose proof is based on the Fundamental Theorem of Arithmetic.\n",
      "\n",
      "**Theorem 1.2**: Let \\( p \\) be a prime number. If \\( p \\) divides \\( a^2 \\), then \\( p \\) divides \\( a \\), where \\( a \\) is a positive integer.\n",
      "\n",
      "**Proof**: Let the prime factorisation of \\( a \\) be as follows:\n",
      "\n",
      "\\[ a = p_1 p_2 \\cdots p_n, \\text{ where } p_1, p_2, \\cdots, p_n \\text{ are primes, not necessarily distinct.} \\]\n",
      "\n",
      "Therefore,\n",
      "\n",
      "\\[ a^2 = (p_1 p_2 \\cdots p_n)(p_1 p_2 \\cdots p_n) = p_1^2 p_2^2 \\cdots p_n^2. \\]\n",
      "\n",
      "Now, we are given that \\( p \\) divides \\( a^2 \\). Therefore, from the Fundamental Theorem of Arithmetic, it follows that \\( p \\) is one of the prime factors of \\( a^2 \\). However, using the uniqueness part of the Fundamental Theorem of Arithmetic, we realise that the only prime factors of \\( a^2 \\) are \\( p_1, p_2, \\cdots, p_n \\). So \\( p \\) is one of \\( p_1, p_2, \\cdots, p_n \\).\n",
      "\n",
      "Now, since \\( a = p_1 p_2 \\cdots p_n \\), \\( p \\) divides \\( a \\).\n",
      "\n",
      "We are now ready to give a proof that \\( \\sqrt{2} \\) is irrational.\n",
      "\n",
      "The proof is based on a technique called ‘proof by contradiction’. (This technique is discussed in some detail in Appendix 1).\n",
      "\n",
      "**Theorem 1.3**: \\( \\sqrt{2} \\) is irrational.\n",
      "\n",
      "**Proof**: Let us assume, to the contrary, that \\( \\sqrt{2} \\) is rational.\n",
      "\n",
      "*Not from the examination point of view.*\n",
      "metadata {'page': 19, 'course_id': '1'}\n",
      ">> IDX: 3, Here are some facts extracted from the provided text:\n",
      "\n",
      "Example 1 ({'page': 17, 'name': 'Example 1', 'course_id': '1', 'triplet_source_id': 'c7cf7f02-0700-46d8-9410-2aef990b4288'}) -> SUPPORTS ({'page': 17, 'course_id': '1', 'triplet_source_id': 'c7cf7f02-0700-46d8-9410-2aef990b4288'}) -> Fundamental Theorem of Arithmetic ({'page': 19, 'description': 'Every integer greater than 1 is either a prime number or can be uniquely factorized as a product of prime numbers.', 'name': 'Fundamental Theorem of Arithmetic', 'course_id': '1', 'triplet_source_id': '87a52369-2ace-47af-98d3-716a1a75096c'})\n",
      "\n",
      "# Mathematics\n",
      "\n",
      "In general, given a composite number \\( x \\), we factorise it as \\( x = p_1 p_2 \\ldots p_n \\), where \\( p_1, p_2, \\ldots, p_n \\) are primes and written in ascending order, i.e., \\( p_1 \\leq p_2 \\leq \\ldots \\leq p_n \\). If we combine the same primes, we will get powers of primes. For example,\n",
      "\n",
      "\\[ 32760 = 2 \\times 2 \\times 2 \\times 3 \\times 3 \\times 5 \\times 7 \\times 13 = 2^3 \\times 3^2 \\times 5 \\times 7 \\times 13 \\]\n",
      "\n",
      "Once we have decided that the order will be ascending, then the way the number is factorised, is unique.\n",
      "\n",
      "The Fundamental Theorem of Arithmetic has many applications, both within mathematics and in other fields. Let us look at some examples.\n",
      "\n",
      "**Example 1**: Consider the numbers \\( 4^n \\), where \\( n \\) is a natural number. Check whether there is any value of \\( n \\) for which \\( 4^n \\) ends with the digit zero.\n",
      "\n",
      "**Solution**: If the number \\( 4^n \\), for any \\( n \\), were to end with the digit zero, then it would be divisible by 5. That is, the prime factorisation of \\( 4^n \\) would contain the prime 5. This is not possible because \\( 4^n = (2^2)^n \\); so the only prime in the factorisation of \\( 4^n \\) is 2. So, the uniqueness of the Fundamental Theorem of Arithmetic guarantees that there are no other primes in the factorisation of \\( 4^n \\). So, there is no natural number \\( n \\) for which \\( 4^n \\) ends with the digit zero.\n",
      "\n",
      "You have already learnt how to find the HCF and LCM of two positive integers using the Fundamental Theorem of Arithmetic in earlier classes, without realising it! This method is also called the prime factorisation method. Let us recall this method through an example.\n",
      "\n",
      "**Example 2**: Find the LCM and HCF of 6 and 20 by the prime factorisation method.\n",
      "\n",
      "**Solution**: We have:\n",
      "\\[ 6 = 2^1 \\times 3^1 \\]\n",
      "\\[ 20 = 2 \\times 2 \\times 5 = 2^2 \\times 5^1 \\]\n",
      "\n",
      "You can find HCF(6, 20) = 2 and LCM(6, 20) = 2 × 2 × 3 × 5 = 60, as done in your earlier classes.\n",
      "\n",
      "Note that HCF(6, 20) = \\( 2^1 \\) = **Product of the smallest power of each common prime factor in the numbers.**\n",
      "\n",
      "LCM(6, 20) = \\( 2^2 \\times 3^1 \\times 5^1 \\) = **Product of the greatest power of each prime factor, involved in the numbers.**\n",
      "\n",
      "From the example above, you might have noticed that HCF(6, 20) × LCM(6, 20) = 6 × 20. In fact, we can verify that for any two positive integers \\( a \\) and \\( b \\),\n",
      "\n",
      "\\[ \\text{HCF}(a, b) \\times \\text{LCM}(a, b) = a \\times b \\]\n",
      "\n",
      "We can use this result to find the LCM of two positive integers, if we have already found the HCF of the two positive integers.\n",
      "\n",
      "**Example 3**: Find the HCF of 96 and 404 by the prime factorisation method. Hence, find their LCM.\n",
      "metadata {'page': 17, 'course_id': '1'}\n",
      ">> IDX: 4, Here are some facts extracted from the provided text:\n",
      "\n",
      "Prime factorisation ({'page': 14, 'name': 'Prime factorisation', 'course_id': '1', 'triplet_source_id': '88c0e677-ee20-4f29-ba8e-dc5a274bfaf1'}) -> SUPPORTS ({'page': 14, 'course_id': '1', 'triplet_source_id': '88c0e677-ee20-4f29-ba8e-dc5a274bfaf1'}) -> Fundamental Theorem of Arithmetic ({'page': 19, 'description': 'Every integer greater than 1 is either a prime number or can be uniquely factorized as a product of prime numbers.', 'name': 'Fundamental Theorem of Arithmetic', 'course_id': '1', 'triplet_source_id': '87a52369-2ace-47af-98d3-716a1a75096c'})\n",
      "\n",
      "# Real Numbers\n",
      "\n",
      "## 1.1 Introduction\n",
      "\n",
      "In Class IX, you began your exploration of the world of real numbers and encountered irrational numbers. We continue our discussion on real numbers in this chapter. We begin with two very important properties of positive integers in Sections 1.2 and 1.3, namely the Euclid’s division algorithm and the Fundamental Theorem of Arithmetic.\n",
      "\n",
      "Euclid’s division algorithm, as the name suggests, has to do with divisibility of integers. Stated simply, it says any positive integer \\( a \\) can be divided by another positive integer \\( b \\) in such a way that it leaves a remainder \\( r \\) that is smaller than \\( b \\). Many of you probably recognise this as the usual long division process. Although this result is quite easy to state and understand, it has many applications related to the divisibility properties of integers. We touch upon a few of them, and use it mainly to compute the HCF of two positive integers.\n",
      "\n",
      "The Fundamental Theorem of Arithmetic, on the other hand, has to do something with multiplication of positive integers. You already know that every composite number can be expressed as a product of primes in a unique way—this important fact is the Fundamental Theorem of Arithmetic. Again, while it is a result that is easy to state and understand, it has some very deep and significant applications in the field of mathematics. We use the Fundamental Theorem of Arithmetic for two main applications. First, we use it to prove the irrationality of many of the numbers you studied in Class IX, such as \\( \\sqrt{2} \\), \\( \\sqrt{3} \\) and \\( \\sqrt{5} \\). Second, we apply this theorem to explore when exactly the decimal expansion of a rational number, say \\( \\frac{p}{q} \\) (\\( q \\neq 0 \\)), is terminating and when it is non-terminating repeating. We do so by looking at the prime factorisation of the denominator \\( q \\) of \\( \\frac{p}{q} \\). You will see that the prime factorisation of \\( q \\) will completely reveal the nature of the decimal expansion of \\( \\frac{p}{q} \\).\n",
      "\n",
      "So let us begin our exploration.\n",
      "metadata {'page': 14, 'course_id': '1'}\n"
     ]
    }
   ],
   "source": [
    "nodes = kg_retriever.retrieve(query)\n",
    "print(len(nodes))\n",
    "for idx, node in enumerate(nodes):\n",
    "    print(f\">> IDX: {idx}, {node.get_content()}\")\n",
    "    print(\"metadata\", node.metadata)"
   ]
  },
  {
   "cell_type": "markdown",
   "metadata": {},
   "source": [
    "### Naive retriever for comparision"
   ]
  },
  {
   "cell_type": "code",
   "execution_count": null,
   "metadata": {},
   "outputs": [],
   "source": [
    "base_index = VectorStoreIndex.from_documents(sub_docs, embed_model=embed_model)\n",
    "base_retriever = base_index.as_retriever(similarity_top_k=2)\n",
    "base_query_engine = RetrieverQueryEngine(base_retriever)"
   ]
  },
  {
   "cell_type": "markdown",
   "metadata": {},
   "source": [
    "### Print naive retriever response"
   ]
  },
  {
   "cell_type": "code",
   "execution_count": null,
   "metadata": {},
   "outputs": [],
   "source": [
    "response = base_query_engine.query(query)\n",
    "print(str(response))"
   ]
  },
  {
   "cell_type": "markdown",
   "metadata": {},
   "source": [
    "### Custom Retriever which uses both Graph and Naive approach (will return unique nodes)"
   ]
  },
  {
   "cell_type": "code",
   "execution_count": null,
   "metadata": {},
   "outputs": [],
   "source": [
    "class CustomRetriever(BaseRetriever):\n",
    "    \"\"\"Custom retriever that performs both KG vector search and direct vector search.\"\"\"\n",
    "\n",
    "    def __init__(self, kg_retriever, vector_retriever):\n",
    "        self._kg_retriever = kg_retriever\n",
    "        self._vector_retriever = vector_retriever\n",
    "\n",
    "    def _retrieve(self, query_bundle) -> List[NodeWithScore]:\n",
    "        \"\"\"Retrieve nodes given query.\"\"\"\n",
    "        kg_nodes = self._kg_retriever.retrieve(query_bundle)\n",
    "        vector_nodes = self._vector_retriever.retrieve(query_bundle)\n",
    "\n",
    "        unique_nodes = {n.node_id: n for n in kg_nodes}\n",
    "        unique_nodes.update({n.node_id: n for n in vector_nodes})\n",
    "        return list(unique_nodes.values())"
   ]
  },
  {
   "cell_type": "code",
   "execution_count": null,
   "metadata": {},
   "outputs": [],
   "source": [
    "custom_retriever = CustomRetriever(kg_retriever, base_retriever)"
   ]
  },
  {
   "cell_type": "code",
   "execution_count": null,
   "metadata": {},
   "outputs": [],
   "source": [
    "nodes = custom_retriever.retrieve(query)"
   ]
  },
  {
   "cell_type": "code",
   "execution_count": null,
   "metadata": {},
   "outputs": [],
   "source": []
  },
  {
   "cell_type": "markdown",
   "metadata": {},
   "source": [
    "### Using this *Retriever* as *Tool* for the **Agent**"
   ]
  },
  {
   "cell_type": "code",
   "execution_count": null,
   "metadata": {},
   "outputs": [],
   "source": [
    "kg_query_engine = RetrieverQueryEngine(custom_retriever)\n",
    "kg_query_tool = QueryEngineTool(\n",
    "    query_engine=kg_query_engine,\n",
    "    metadata=ToolMetadata(\n",
    "        name=\"query_tool\",\n",
    "        description=\"Use this tool to get contextual data from the book. Provided information about the concepts from Maths NCERT 10th grade. \",\n",
    "    ),\n",
    ")\n",
    "\n",
    "agent_worker = FunctionCallingAgentWorker.from_tools(\n",
    "    [kg_query_tool],\n",
    "    llm=llm,\n",
    "    verbose=True,\n",
    "    allow_parallel_tool_calls=False,\n",
    ")\n",
    "agent = agent_worker.as_agent()"
   ]
  },
  {
   "cell_type": "markdown",
   "metadata": {},
   "source": [
    "### Agent Query"
   ]
  },
  {
   "cell_type": "code",
   "execution_count": null,
   "metadata": {},
   "outputs": [],
   "source": [
    "agent_query = \"\"\"\n",
    "Explain Theorem 1.2 with examples\n",
    "\"\"\""
   ]
  },
  {
   "cell_type": "code",
   "execution_count": null,
   "metadata": {},
   "outputs": [],
   "source": [
    "response = agent.chat(agent_query)\n",
    "print(str(response))"
   ]
  },
  {
   "cell_type": "code",
   "execution_count": null,
   "metadata": {},
   "outputs": [],
   "source": []
  }
 ],
 "metadata": {
  "kernelspec": {
   "display_name": "venv",
   "language": "python",
   "name": "python3"
  },
  "language_info": {
   "codemirror_mode": {
    "name": "ipython",
    "version": 3
   },
   "file_extension": ".py",
   "mimetype": "text/x-python",
   "name": "python",
   "nbconvert_exporter": "python",
   "pygments_lexer": "ipython3",
   "version": "3.12.4"
  }
 },
 "nbformat": 4,
 "nbformat_minor": 2
}
