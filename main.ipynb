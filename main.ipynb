{
 "cells": [
  {
   "cell_type": "markdown",
   "metadata": {},
   "source": [
    "### Imports"
   ]
  },
  {
   "cell_type": "code",
   "execution_count": 1,
   "metadata": {},
   "outputs": [],
   "source": [
    "import nest_asyncio\n",
    "import os\n",
    "from dotenv import load_dotenv\n",
    "from llama_index.llms.openai import OpenAI\n",
    "from llama_index.embeddings.openai import OpenAIEmbedding\n",
    "from llama_index.core import Settings\n",
    "from llama_parse import LlamaParse\n",
    "from copy import deepcopy\n",
    "from llama_index.core.schema import TextNode, Document\n",
    "from llama_index.core import VectorStoreIndex\n",
    "from llama_index.graph_stores.neo4j import Neo4jPGStore\n",
    "from llama_index.core.indices.property_graph import (\n",
    "    ImplicitPathExtractor,\n",
    "    SimpleLLMPathExtractor,\n",
    ")\n",
    "from llama_index.core import PropertyGraphIndex\n",
    "from llama_index.llms.openai import OpenAI\n",
    "from llama_index.embeddings.openai import OpenAIEmbedding\n",
    "from llama_index.core.indices.property_graph import VectorContextRetriever\n",
    "from llama_index.core import VectorStoreIndex\n",
    "from llama_index.core.query_engine import RetrieverQueryEngine\n",
    "from llama_index.core.retrievers import BaseRetriever\n",
    "from llama_index.core.schema import NodeWithScore\n",
    "from typing import List\n",
    "from llama_index.core.agent import FunctionCallingAgentWorker\n",
    "from llama_index.core.tools import QueryEngineTool, ToolMetadata\n",
    "from llama_index.core.query_engine import RetrieverQueryEngine"
   ]
  },
  {
   "cell_type": "code",
   "execution_count": 2,
   "metadata": {},
   "outputs": [],
   "source": [
    "load_dotenv()\n",
    "nest_asyncio.apply()"
   ]
  },
  {
   "cell_type": "code",
   "execution_count": 3,
   "metadata": {},
   "outputs": [],
   "source": [
    "OPENAI_API_KEY=os.getenv(\"OPENAI_API_KEY\")"
   ]
  },
  {
   "cell_type": "markdown",
   "metadata": {},
   "source": [
    "### LLM & Embedding Model Setup"
   ]
  },
  {
   "cell_type": "code",
   "execution_count": 4,
   "metadata": {},
   "outputs": [],
   "source": [
    "llm = OpenAI(model=\"gpt-4o\")\n",
    "embed_model = OpenAIEmbedding(model=\"text-embedding-3-small\")\n",
    "\n",
    "Settings.llm = llm\n",
    "Settings.embed_model = embed_model"
   ]
  },
  {
   "cell_type": "markdown",
   "metadata": {},
   "source": [
    "### Parsing instruction"
   ]
  },
  {
   "cell_type": "code",
   "execution_count": 5,
   "metadata": {},
   "outputs": [
    {
     "name": "stderr",
     "output_type": "stream",
     "text": [
      "<>:1: SyntaxWarning: invalid escape sequence '\\p'\n",
      "<>:1: SyntaxWarning: invalid escape sequence '\\p'\n",
      "/var/folders/cb/ss6_678x69n_zrf5_znhqd680000gn/T/ipykernel_91687/2222350866.py:1: SyntaxWarning: invalid escape sequence '\\p'\n",
      "  parsing_instruction = \"\"\"\n"
     ]
    }
   ],
   "source": [
    "parsing_instruction = \"\"\"\n",
    "1. **Text**: Identify and extract all text content, including explanations, descriptions, and definitions.\n",
    "2. **Image**: Identify and extract all images, ensuring to capture diagrams, illustrations, and visual representations.\n",
    "3. **Graph**: Identify and extract all graphs, including line graphs, bar graphs, and any other graphical data representations.\n",
    "4. **Table**: Identify and extract all tables, capturing data and structured information presented in tabular form.\n",
    "5. **Practice Problems**: Identify and extract all practice problems, including exercises and questions for students to solve.\n",
    "6. **Examples**: Identify and extract all worked examples that demonstrate how to solve problems or apply concepts.\n",
    "\n",
    "#### Tagging Requirements:\n",
    "\n",
    "For each extracted element, tag the following:\n",
    "\n",
    "1. **Chapter**: The overarching division of the textbook in which the content is located.\n",
    "2. **Concept**: The specific subsection or topic within a chapter that the content pertains to.\n",
    "3. **Learning Outcome Name**: The most fundamental unit of learning, which is a combination of the concept, the cognitive ability (based on Bloom's taxonomy), and the context. For example:\n",
    "    - **Learning Outcome**: \"Calculating resistance using VI graph\"\n",
    "        - **Cognitive Ability**: Analyse\n",
    "        - **Concept**: Calculating resistance\n",
    "        - **Context**: VI graph\n",
    "\n",
    "4. **Cognitive Ability**: The level of cognitive ability required, based on Bloom's taxonomy (e.g., Remember, Understand, Apply, Analyze, Evaluate, Create).\n",
    "\n",
    "#### Special Instructions for Formulas and Equations:\n",
    "\n",
    "- For any formulas or equations encountered, ensure they are provided in LaTeX format, enclosed in `$$`. For example:\n",
    "    - Equation: $$ E = mc^2 $$\n",
    "    - Formula: $$ \\text{Area of a circle} = \\pi r^2 $$\n",
    "\n",
    "#### Additional Notes:\n",
    "\n",
    "- **Multiple Concepts and Learning Outcomes**: Each page can have multiple concepts, and each concept can have multiple learning outcomes.\n",
    "- **Contextual Awareness**: Ensure the context of each concept and learning outcome is accurately captured, reflecting the specific example, problem, or explanation provided.\n",
    "\n",
    "#### Example of Tagged Content:\n",
    "\n",
    "**Chapter**: Electricity  \n",
    "**Concept**: Ohm's Law  \n",
    "**Learning Outcome Name**: Calculating resistance using VI graph  \n",
    "- **Cognitive Ability**: Analyze  \n",
    "- **Context**: VI graph\n",
    "\n",
    "**Text**: \"Ohm's Law states that the current through a conductor between two points is directly proportional to the voltage across the two points.\"\n",
    "\n",
    "**Image**: [Image of a circuit diagram]\n",
    "\n",
    "**Graph**: [Graph showing Voltage vs. Current]\n",
    "\n",
    "**Table**: \n",
    "| Voltage (V) | Current (I) |\n",
    "|-------------|-------------|\n",
    "| 1           | 0.2         |\n",
    "| 2           | 0.4         |\n",
    "| 3           | 0.6         |\n",
    "\n",
    "**Practice Problems**:\n",
    "1. \"Calculate the resistance if the voltage is 5V and the current is 1A.\"\n",
    "\n",
    "**Examples**:\n",
    "- **Example 1**: \"If the voltage across a resistor is 10V and the current is 2A, the resistance can be calculated using Ohm's Law as follows: $$ R = \\frac{V}{I} = \\frac{10V}{2A} = 5 \\Omega $$\"\n",
    "\"\"\""
   ]
  },
  {
   "cell_type": "markdown",
   "metadata": {},
   "source": [
    "### Adjust the target pages here... (set to None if want to parse all the pages)"
   ]
  },
  {
   "cell_type": "code",
   "execution_count": 6,
   "metadata": {},
   "outputs": [],
   "source": [
    "target_pages=\"15,16,17,18,19,20,21\""
   ]
  },
  {
   "cell_type": "code",
   "execution_count": 7,
   "metadata": {},
   "outputs": [
    {
     "name": "stdout",
     "output_type": "stream",
     "text": [
      "Started parsing the file under job_id 70d31837-9fb7-4ef9-b1ec-df3aac31caa4\n"
     ]
    }
   ],
   "source": [
    "docs = LlamaParse(\n",
    "  result_type=\"markdown\", \n",
    "  target_pages=target_pages, \n",
    "  parsing_instruction=parsing_instruction,\n",
    "  use_vendor_multimodal_model=True,\n",
    "  vendor_multimodal_model_name=\"openai-gpt4o\",\n",
    "  vendor_multimodal_api_key=OPENAI_API_KEY,\n",
    ").load_data(\"book.pdf\")"
   ]
  },
  {
   "cell_type": "code",
   "execution_count": 8,
   "metadata": {},
   "outputs": [],
   "source": [
    "def get_sub_docs(docs):\n",
    "    \"\"\"Split docs into pages, by separator.\"\"\"\n",
    "    sub_docs = []\n",
    "    for doc in docs:\n",
    "        doc_chunks = doc.text.split(\"\\n---\\n\")\n",
    "        for doc_chunk in doc_chunks:\n",
    "            sub_doc = Document(\n",
    "                text=doc_chunk,\n",
    "                metadata=deepcopy(doc.metadata),\n",
    "            )\n",
    "            sub_docs.append(sub_doc)\n",
    "\n",
    "    return sub_docs"
   ]
  },
  {
   "cell_type": "code",
   "execution_count": 9,
   "metadata": {},
   "outputs": [],
   "source": [
    "sub_docs = get_sub_docs(docs)"
   ]
  },
  {
   "cell_type": "code",
   "execution_count": 10,
   "metadata": {},
   "outputs": [
    {
     "name": "stderr",
     "output_type": "stream",
     "text": [
      "Received notification from DBMS server: {severity: WARNING} {code: Neo.ClientNotification.Statement.FeatureDeprecationWarning} {category: DEPRECATION} {title: This feature is deprecated and will be removed in future versions.} {description: The procedure has a deprecated field. ('config' used by 'apoc.meta.graphSample' is deprecated.)} {position: line: 1, column: 1, offset: 0} for query: \"CALL apoc.meta.graphSample() YIELD nodes, relationships RETURN nodes, [rel in relationships | {name:apoc.any.property(rel, 'type'), count: apoc.any.property(rel, 'count')}] AS relationships\"\n"
     ]
    }
   ],
   "source": [
    "graph_store = Neo4jPGStore(\n",
    "    username=os.getenv(\"NEO4J_USERNAME\"),\n",
    "    password=os.getenv(\"NEO4J_PASSWORD\"),\n",
    "    url=os.getenv(\"NEO4J_URL\"),\n",
    "    database=os.getenv(\"NEO4J_DATABASE\"),\n",
    ")\n",
    "vec_store = None"
   ]
  },
  {
   "cell_type": "markdown",
   "metadata": {},
   "source": [
    "### Run this only for the first time when the graph is not created"
   ]
  },
  {
   "cell_type": "code",
   "execution_count": 11,
   "metadata": {},
   "outputs": [
    {
     "name": "stderr",
     "output_type": "stream",
     "text": [
      "/Users/dheeraj/Developer/Personal/ml/neo4j-graph-rag/venv/lib/python3.12/site-packages/tqdm/auto.py:21: TqdmWarning: IProgress not found. Please update jupyter and ipywidgets. See https://ipywidgets.readthedocs.io/en/stable/user_install.html\n",
      "  from .autonotebook import tqdm as notebook_tqdm\n",
      "Parsing nodes: 100%|██████████| 7/7 [00:00<00:00, 1629.76it/s]\n",
      "Extracting implicit paths: 100%|██████████| 7/7 [00:00<00:00, 67963.26it/s]\n",
      "Extracting paths from text: 100%|██████████| 7/7 [00:05<00:00,  1.33it/s]\n",
      "Generating embeddings: 100%|██████████| 1/1 [00:01<00:00,  1.62s/it]\n",
      "Generating embeddings: 100%|██████████| 1/1 [00:01<00:00,  1.81s/it]\n",
      "Received notification from DBMS server: {severity: WARNING} {code: Neo.ClientNotification.Statement.FeatureDeprecationWarning} {category: DEPRECATION} {title: This feature is deprecated and will be removed in future versions.} {description: The procedure has a deprecated field. ('config' used by 'apoc.meta.graphSample' is deprecated.)} {position: line: 1, column: 1, offset: 0} for query: \"CALL apoc.meta.graphSample() YIELD nodes, relationships RETURN nodes, [rel in relationships | {name:apoc.any.property(rel, 'type'), count: apoc.any.property(rel, 'count')}] AS relationships\"\n"
     ]
    }
   ],
   "source": [
    "index = PropertyGraphIndex.from_documents(\n",
    "    sub_docs,\n",
    "    embed_model=OpenAIEmbedding(model_name=\"text-embedding-3-small\"),\n",
    "    kg_extractors=[\n",
    "        ImplicitPathExtractor(),\n",
    "        SimpleLLMPathExtractor(\n",
    "            llm=OpenAI(model=\"gpt-3.5-turbo\", temperature=0.3),\n",
    "            num_workers=4,\n",
    "            max_paths_per_chunk=10,\n",
    "        ),\n",
    "    ],\n",
    "    property_graph_store=graph_store,\n",
    "    show_progress=True,\n",
    ")"
   ]
  },
  {
   "cell_type": "markdown",
   "metadata": {},
   "source": [
    "### Run this if the data is already converted into graph"
   ]
  },
  {
   "cell_type": "code",
   "execution_count": null,
   "metadata": {},
   "outputs": [],
   "source": [
    "index = PropertyGraphIndex.from_existing(\n",
    "    graph_store,\n",
    "    embed_model=OpenAIEmbedding(model_name=\"text-embedding-3-small\"),\n",
    "    kg_extractors=[\n",
    "        ImplicitPathExtractor(),\n",
    "        SimpleLLMPathExtractor(\n",
    "            llm=OpenAI(model=\"gpt-3.5-turbo\", temperature=0.3),\n",
    "            num_workers=4,\n",
    "            max_paths_per_chunk=10,\n",
    "        ),\n",
    "    ],\n",
    "    show_progress=True,\n",
    ")"
   ]
  },
  {
   "cell_type": "markdown",
   "metadata": {},
   "source": [
    "### Retriever"
   ]
  },
  {
   "cell_type": "code",
   "execution_count": 12,
   "metadata": {},
   "outputs": [],
   "source": [
    "kg_retriever = VectorContextRetriever(\n",
    "    index.property_graph_store,\n",
    "    embed_model=OpenAIEmbedding(model_name=\"text-embedding-3-small\"),\n",
    "    similarity_top_k=2,\n",
    "    path_depth=1,\n",
    "    include_text=True,\n",
    ")"
   ]
  },
  {
   "cell_type": "markdown",
   "metadata": {},
   "source": [
    "### Query"
   ]
  },
  {
   "cell_type": "code",
   "execution_count": 13,
   "metadata": {},
   "outputs": [],
   "source": [
    "query = \"\"\"\n",
    "Fundamental Theorem of Arithmetic\n",
    "\"\"\""
   ]
  },
  {
   "cell_type": "markdown",
   "metadata": {},
   "source": [
    "### Print Nodes Response"
   ]
  },
  {
   "cell_type": "code",
   "execution_count": 14,
   "metadata": {},
   "outputs": [
    {
     "name": "stdout",
     "output_type": "stream",
     "text": [
      "1\n",
      ">> IDX: 0, Here are some facts extracted from the provided text:\n",
      "\n",
      "Fundamental theorem of arithmetic ({'name': 'Fundamental theorem of arithmetic', 'triplet_source_id': '80a61887-b887-4251-ab71-980e4c30ca70'}) -> Is -> Part ({'name': 'Part', 'triplet_source_id': 'ea76798a-8466-4c34-9dd2-ecd5de2fe6ea'})\n",
      "Fundamental theorem of arithmetic ({'name': 'Fundamental theorem of arithmetic', 'triplet_source_id': '80a61887-b887-4251-ab71-980e4c30ca70'}) -> Is -> Uniqueness part ({'name': 'Uniqueness part', 'triplet_source_id': 'ea76798a-8466-4c34-9dd2-ecd5de2fe6ea'})\n",
      "Fundamental theorem of arithmetic ({'name': 'Fundamental theorem of arithmetic', 'triplet_source_id': '80a61887-b887-4251-ab71-980e4c30ca70'}) -> Is based on -> Proof ({'name': 'Proof', 'triplet_source_id': 'ea76798a-8466-4c34-9dd2-ecd5de2fe6ea'})\n",
      "Fundamental theorem of arithmetic ({'name': 'Fundamental theorem of arithmetic', 'triplet_source_id': '80a61887-b887-4251-ab71-980e4c30ca70'}) -> Follows -> That p is one of the prime factors of a^2 ({'name': 'That p is one of the prime factors of a^2', 'triplet_source_id': 'ea76798a-8466-4c34-9dd2-ecd5de2fe6ea'})\n",
      "Fundamental theorem of arithmetic ({'name': 'Fundamental theorem of arithmetic', 'triplet_source_id': '80a61887-b887-4251-ab71-980e4c30ca70'}) -> Is -> Theorem ({'name': 'Theorem', 'triplet_source_id': 'ea76798a-8466-4c34-9dd2-ecd5de2fe6ea'})\n",
      "Fundamental theorem of arithmetic ({'name': 'Fundamental theorem of arithmetic', 'triplet_source_id': '80a61887-b887-4251-ab71-980e4c30ca70'}) -> Is -> Based on ({'name': 'Based on', 'triplet_source_id': 'ea76798a-8466-4c34-9dd2-ecd5de2fe6ea'})\n",
      "Fundamental theorem of arithmetic ({'name': 'Fundamental theorem of arithmetic', 'triplet_source_id': '80a61887-b887-4251-ab71-980e4c30ca70'}) -> Is -> One of the theorems ({'name': 'One of the theorems', 'triplet_source_id': 'ea76798a-8466-4c34-9dd2-ecd5de2fe6ea'})\n",
      "Fundamental theorem of arithmetic ({'name': 'Fundamental theorem of arithmetic', 'triplet_source_id': '80a61887-b887-4251-ab71-980e4c30ca70'}) -> States -> Every composite number can be factorised as a product of primes ({'name': 'Every composite number can be factorised as a product of primes', 'triplet_source_id': '80a61887-b887-4251-ab71-980e4c30ca70'})\n",
      "Fundamental theorem of arithmetic ({'name': 'Fundamental theorem of arithmetic', 'triplet_source_id': '80a61887-b887-4251-ab71-980e4c30ca70'}) -> Says -> Prime factorisation of a natural number is unique ({'name': 'Prime factorisation of a natural number is unique', 'triplet_source_id': '80a61887-b887-4251-ab71-980e4c30ca70'})\n",
      "Carl friedrich gauss ({'name': 'Carl friedrich gauss', 'triplet_source_id': '80a61887-b887-4251-ab71-980e4c30ca70'}) -> Given -> First correct proof of the fundamental theorem of arithmetic ({'name': 'First correct proof of the fundamental theorem of arithmetic', 'triplet_source_id': '80a61887-b887-4251-ab71-980e4c30ca70'})\n",
      "\n",
      "REAL NUMBERS                                                                                        3\n",
      "\n",
      "       So we have factorised 32760 as 2 × 2 × 2 × 3 × 3 × 5 × 7 × 13 as a product of\n",
      "primes, i.e., 32760 = 23 × 32 × 5 × 7 × 13 as a product of powers of primes. Let us try\n",
      "another number, say, 123456789. This can be written as 32 × 3803 × 3607. Of course,\n",
      "you have to check that 3803 and 3607 are primes! (Try it out for several other natural\n",
      "numbers yourself.) This leads us to a conjecture that every composite number can be\n",
      "written as the product of powers of primes. In fact, this statement is true, and is called\n",
      "the Fundamental Theorem of Arithmetic because of its basic crucial importance\n",
      "to the study of integers. Let us now formally state this theorem.\n",
      "       Theorem 1.1 (Fundamental Theorem of Arithmetic) : Every composite\n",
      "number can be expressed (factorised) as a product of primes, and this factorisation\n",
      "is unique, apart from the order in which the prime factors occur.\n",
      "\n",
      "    An equivalent version of Theorem 1.2 was probably\n",
      "    first recorded as Proposition 14 of Book IX in Euclid’s\n",
      "    Elements, before it came to be known as the\n",
      "    Fundamental Theorem of Arithmetic. However, the\n",
      "    first correct proof was given by Carl Friedrich Gauss\n",
      "    in his Disquisitiones Arithmeticae.\n",
      "    Carl Friedrich Gauss is often referred to as the ‘Prince\n",
      "    of Mathematicians’ and is considered one of the three\n",
      "    greatest mathematicians of all time, along with\n",
      "    Archimedes and Newton. He has made fundamental                            Carl Friedrich Gauss\n",
      "    contributions to both mathematics and science.                                 (1777 – 1855)\n",
      "\n",
      "       The Fundamental Theorem of Arithmetic says that every composite number can\n",
      "be factorised as a product of primes. Actually it says more. It says that given any\n",
      "composite number it can be factorised as a product of prime numbers in a ‘unique’\n",
      "way, except for the order in which the primes occur. That is, given any composite\n",
      "number there is one and only one way to write it as a product of primes, as long as we\n",
      "are not particular about the order in which the primes occur. So, for example, we\n",
      "regard 2 × 3 × 5 × 7 as the same as 3 × 5 × 7 × 2, or any other possible order in which\n",
      "these primes are written. This fact is also stated in the following form:\n",
      "       The prime factorisation of a natural number is unique, except for the order\n",
      "of its factors.\n",
      "\n",
      "                                           Rationalised 2023-24\n"
     ]
    }
   ],
   "source": [
    "nodes = kg_retriever.retrieve(query)\n",
    "print(len(nodes))\n",
    "for idx, node in enumerate(nodes):\n",
    "    print(f\">> IDX: {idx}, {node.get_content()}\")"
   ]
  },
  {
   "cell_type": "markdown",
   "metadata": {},
   "source": [
    "### Naive retriever for comparision"
   ]
  },
  {
   "cell_type": "code",
   "execution_count": 15,
   "metadata": {},
   "outputs": [],
   "source": [
    "base_index = VectorStoreIndex.from_documents(sub_docs, embed_model=embed_model)\n",
    "base_retriever = base_index.as_retriever(similarity_top_k=2)\n",
    "base_query_engine = RetrieverQueryEngine(base_retriever)"
   ]
  },
  {
   "cell_type": "markdown",
   "metadata": {},
   "source": [
    "### Print naive retriever response"
   ]
  },
  {
   "cell_type": "code",
   "execution_count": 16,
   "metadata": {},
   "outputs": [
    {
     "name": "stdout",
     "output_type": "stream",
     "text": [
      "The Fundamental Theorem of Arithmetic states that every composite number can be expressed as a product of prime numbers, and this factorization is unique, apart from the order in which the prime factors occur. This means that for any given composite number, there is only one way to write it as a product of primes, disregarding the sequence in which the primes are listed.\n"
     ]
    }
   ],
   "source": [
    "response = base_query_engine.query(query)\n",
    "print(str(response))"
   ]
  },
  {
   "cell_type": "markdown",
   "metadata": {},
   "source": [
    "### Custom Retriever which uses both Graph and Naive approach (will return unique nodes)"
   ]
  },
  {
   "cell_type": "code",
   "execution_count": 17,
   "metadata": {},
   "outputs": [],
   "source": [
    "class CustomRetriever(BaseRetriever):\n",
    "    \"\"\"Custom retriever that performs both KG vector search and direct vector search.\"\"\"\n",
    "\n",
    "    def __init__(self, kg_retriever, vector_retriever):\n",
    "        self._kg_retriever = kg_retriever\n",
    "        self._vector_retriever = vector_retriever\n",
    "\n",
    "    def _retrieve(self, query_bundle) -> List[NodeWithScore]:\n",
    "        \"\"\"Retrieve nodes given query.\"\"\"\n",
    "        kg_nodes = self._kg_retriever.retrieve(query_bundle)\n",
    "        vector_nodes = self._vector_retriever.retrieve(query_bundle)\n",
    "\n",
    "        unique_nodes = {n.node_id: n for n in kg_nodes}\n",
    "        unique_nodes.update({n.node_id: n for n in vector_nodes})\n",
    "        return list(unique_nodes.values())"
   ]
  },
  {
   "cell_type": "code",
   "execution_count": 18,
   "metadata": {},
   "outputs": [],
   "source": [
    "custom_retriever = CustomRetriever(kg_retriever, base_retriever)"
   ]
  },
  {
   "cell_type": "code",
   "execution_count": 19,
   "metadata": {},
   "outputs": [],
   "source": [
    "nodes = custom_retriever.retrieve(query)"
   ]
  },
  {
   "cell_type": "markdown",
   "metadata": {},
   "source": [
    "### Using this *Retriever* as *Tool* for the **Agent**"
   ]
  },
  {
   "cell_type": "code",
   "execution_count": 20,
   "metadata": {},
   "outputs": [],
   "source": [
    "kg_query_engine = RetrieverQueryEngine(custom_retriever)\n",
    "kg_query_tool = QueryEngineTool(\n",
    "    query_engine=kg_query_engine,\n",
    "    metadata=ToolMetadata(\n",
    "        name=\"query_tool\",\n",
    "        description=\"Use this tool to get contextual data from the book. Provided information about the concepts from Maths NCERT 10th grade. \",\n",
    "    ),\n",
    ")\n",
    "\n",
    "agent_worker = FunctionCallingAgentWorker.from_tools(\n",
    "    [kg_query_tool],\n",
    "    llm=llm,\n",
    "    verbose=True,\n",
    "    allow_parallel_tool_calls=False,\n",
    ")\n",
    "agent = agent_worker.as_agent()"
   ]
  },
  {
   "cell_type": "markdown",
   "metadata": {},
   "source": [
    "### Agent Query"
   ]
  },
  {
   "cell_type": "code",
   "execution_count": 29,
   "metadata": {},
   "outputs": [],
   "source": [
    "agent_query = \"\"\"\n",
    "Explain Theorem 1.2 with examples\n",
    "\"\"\""
   ]
  },
  {
   "cell_type": "code",
   "execution_count": 30,
   "metadata": {},
   "outputs": [
    {
     "name": "stdout",
     "output_type": "stream",
     "text": [
      "Added user message to memory: \n",
      "Explain Theorem 1.2 with examples\n",
      "\n",
      "=== Calling Function ===\n",
      "Calling function: query_tool with args: {\"input\": \"Explain Theorem 1.2 with examples from Maths NCERT 10th grade textbook\"}\n",
      "=== Function Output ===\n",
      "Theorem 1.2 states: \"Let \\( p \\) be a prime number. If \\( p \\) divides \\( a^2 \\), then \\( p \\) divides \\( a \\), where \\( a \\) is a positive integer.\"\n",
      "\n",
      "To understand this theorem, let's consider an example. Suppose \\( p = 3 \\) and \\( a = 6 \\). According to the theorem, if 3 divides \\( 6^2 \\), then 3 must also divide 6.\n",
      "\n",
      "First, calculate \\( 6^2 \\):\n",
      "\\[ 6^2 = 36 \\]\n",
      "\n",
      "Since 3 divides 36 (because \\( 36 \\div 3 = 12 \\)), according to the theorem, 3 must also divide 6. Indeed, 3 divides 6 (because \\( 6 \\div 3 = 2 \\)).\n",
      "\n",
      "Another example can be with \\( p = 5 \\) and \\( a = 10 \\). If 5 divides \\( 10^2 \\), then 5 must also divide 10.\n",
      "\n",
      "First, calculate \\( 10^2 \\):\n",
      "\\[ 10^2 = 100 \\]\n",
      "\n",
      "Since 5 divides 100 (because \\( 100 \\div 5 = 20 \\)), according to the theorem, 5 must also divide 10. Indeed, 5 divides 10 (because \\( 10 \\div 5 = 2 \\)).\n",
      "\n",
      "These examples illustrate that if a prime number \\( p \\) divides the square of a number \\( a \\), then \\( p \\) must also divide \\( a \\) itself.\n",
      "=== LLM Response ===\n",
      "### Theorem 1.2\n",
      "**Statement**: Let \\( p \\) be a prime number. If \\( p \\) divides \\( a^2 \\), then \\( p \\) divides \\( a \\), where \\( a \\) is a positive integer.\n",
      "\n",
      "### Explanation with Examples\n",
      "\n",
      "#### Example 1:\n",
      "- **Prime Number \\( p \\)**: 3\n",
      "- **Positive Integer \\( a \\)**: 6\n",
      "\n",
      "According to the theorem, if 3 divides \\( 6^2 \\), then 3 must also divide 6.\n",
      "\n",
      "1. Calculate \\( 6^2 \\):\n",
      "   \\[ 6^2 = 36 \\]\n",
      "\n",
      "2. Check if 3 divides 36:\n",
      "   \\[ 36 \\div 3 = 12 \\]\n",
      "   Since 3 divides 36, according to the theorem, 3 must also divide 6.\n",
      "\n",
      "3. Verify if 3 divides 6:\n",
      "   \\[ 6 \\div 3 = 2 \\]\n",
      "   Indeed, 3 divides 6.\n",
      "\n",
      "#### Example 2:\n",
      "- **Prime Number \\( p \\)**: 5\n",
      "- **Positive Integer \\( a \\)**: 10\n",
      "\n",
      "According to the theorem, if 5 divides \\( 10^2 \\), then 5 must also divide 10.\n",
      "\n",
      "1. Calculate \\( 10^2 \\):\n",
      "   \\[ 10^2 = 100 \\]\n",
      "\n",
      "2. Check if 5 divides 100:\n",
      "   \\[ 100 \\div 5 = 20 \\]\n",
      "   Since 5 divides 100, according to the theorem, 5 must also divide 10.\n",
      "\n",
      "3. Verify if 5 divides 10:\n",
      "   \\[ 10 \\div 5 = 2 \\]\n",
      "   Indeed, 5 divides 10.\n",
      "\n",
      "### Conclusion\n",
      "These examples illustrate Theorem 1.2, which states that if a prime number \\( p \\) divides the square of a number \\( a \\), then \\( p \\) must also divide \\( a \\) itself. This theorem is fundamental in number theory and helps in understanding the properties of prime numbers and their relationship with other integers.\n",
      "### Theorem 1.2\n",
      "**Statement**: Let \\( p \\) be a prime number. If \\( p \\) divides \\( a^2 \\), then \\( p \\) divides \\( a \\), where \\( a \\) is a positive integer.\n",
      "\n",
      "### Explanation with Examples\n",
      "\n",
      "#### Example 1:\n",
      "- **Prime Number \\( p \\)**: 3\n",
      "- **Positive Integer \\( a \\)**: 6\n",
      "\n",
      "According to the theorem, if 3 divides \\( 6^2 \\), then 3 must also divide 6.\n",
      "\n",
      "1. Calculate \\( 6^2 \\):\n",
      "   \\[ 6^2 = 36 \\]\n",
      "\n",
      "2. Check if 3 divides 36:\n",
      "   \\[ 36 \\div 3 = 12 \\]\n",
      "   Since 3 divides 36, according to the theorem, 3 must also divide 6.\n",
      "\n",
      "3. Verify if 3 divides 6:\n",
      "   \\[ 6 \\div 3 = 2 \\]\n",
      "   Indeed, 3 divides 6.\n",
      "\n",
      "#### Example 2:\n",
      "- **Prime Number \\( p \\)**: 5\n",
      "- **Positive Integer \\( a \\)**: 10\n",
      "\n",
      "According to the theorem, if 5 divides \\( 10^2 \\), then 5 must also divide 10.\n",
      "\n",
      "1. Calculate \\( 10^2 \\):\n",
      "   \\[ 10^2 = 100 \\]\n",
      "\n",
      "2. Check if 5 divides 100:\n",
      "   \\[ 100 \\div 5 = 20 \\]\n",
      "   Since 5 divides 100, according to the theorem, 5 must also divide 10.\n",
      "\n",
      "3. Verify if 5 divides 10:\n",
      "   \\[ 10 \\div 5 = 2 \\]\n",
      "   Indeed, 5 divides 10.\n",
      "\n",
      "### Conclusion\n",
      "These examples illustrate Theorem 1.2, which states that if a prime number \\( p \\) divides the square of a number \\( a \\), then \\( p \\) must also divide \\( a \\) itself. This theorem is fundamental in number theory and helps in understanding the properties of prime numbers and their relationship with other integers.\n"
     ]
    }
   ],
   "source": [
    "response = agent.chat(agent_query)\n",
    "print(str(response))"
   ]
  }
 ],
 "metadata": {
  "kernelspec": {
   "display_name": "venv",
   "language": "python",
   "name": "python3"
  },
  "language_info": {
   "codemirror_mode": {
    "name": "ipython",
    "version": 3
   },
   "file_extension": ".py",
   "mimetype": "text/x-python",
   "name": "python",
   "nbconvert_exporter": "python",
   "pygments_lexer": "ipython3",
   "version": "3.12.4"
  }
 },
 "nbformat": 4,
 "nbformat_minor": 2
}
