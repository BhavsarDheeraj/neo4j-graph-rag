{
 "cells": [
  {
   "cell_type": "markdown",
   "metadata": {},
   "source": [
    "### Imports"
   ]
  },
  {
   "cell_type": "code",
   "execution_count": 1,
   "metadata": {},
   "outputs": [],
   "source": [
    "from dotenv import load_dotenv\n",
    "import nest_asyncio\n",
    "import os\n",
    "from llama_index.llms.openai import OpenAI as llama_openai\n",
    "from llama_index.embeddings.openai import OpenAIEmbedding as llama_openai_embedding\n",
    "from llama_index.core import Settings as llama_settings\n",
    "from llama_parse import LlamaParse as llama_parse\n",
    "from langchain_core.documents import  Document\n",
    "from langchain_community.graphs import Neo4jGraph\n",
    "from langchain_core.prompts import ChatPromptTemplate\n",
    "from langchain_experimental.graph_transformers import LLMGraphTransformer\n",
    "from langchain_openai import ChatOpenAI\n",
    "from langchain_community.vectorstores import Neo4jVector\n",
    "from langchain_openai import OpenAIEmbeddings\n",
    "from langchain_core.tools import BaseTool, BaseModel, Field\n",
    "from typing import Type, Any, Dict, List\n",
    "from langchain_core.prompts import ChatPromptTemplate, MessagesPlaceholder\n",
    "from langchain.agents import (\n",
    "    AgentExecutor,\n",
    "    create_tool_calling_agent,\n",
    ")"
   ]
  },
  {
   "cell_type": "code",
   "execution_count": 2,
   "metadata": {},
   "outputs": [],
   "source": [
    "load_dotenv()\n",
    "nest_asyncio.apply()"
   ]
  },
  {
   "cell_type": "code",
   "execution_count": 3,
   "metadata": {},
   "outputs": [],
   "source": [
    "OPENAI_API_KEY=os.getenv(\"OPENAI_API_KEY\")"
   ]
  },
  {
   "cell_type": "markdown",
   "metadata": {},
   "source": [
    "### Parsing"
   ]
  },
  {
   "cell_type": "code",
   "execution_count": 4,
   "metadata": {},
   "outputs": [],
   "source": [
    "llm = llama_openai(model=\"gpt-4o\")\n",
    "embed_model = llama_openai_embedding(model=\"text-embedding-3-small\")\n",
    "\n",
    "llama_settings.llm = llm\n",
    "llama_settings.embed_model = embed_model"
   ]
  },
  {
   "cell_type": "code",
   "execution_count": null,
   "metadata": {},
   "outputs": [],
   "source": [
    "llama_parsing_instruction = \"\"\"\n",
    "1. **Text**: Identify and extract all text content, including explanations, descriptions, and definitions.\n",
    "2. **Image**: Identify and extract all images, ensuring to capture diagrams, illustrations, and visual representations.\n",
    "3. **Graph**: Identify and extract all graphs, including line graphs, bar graphs, and any other graphical data representations.\n",
    "4. **Table**: Identify and extract all tables, capturing data and structured information presented in tabular form.\n",
    "5. **Practice Problems**: Identify and extract all practice problems, including exercises and questions for students to solve.\n",
    "6. **Examples**: Identify and extract all worked examples that demonstrate how to solve problems or apply concepts.\n",
    "\n",
    "#### Tagging Requirements:\n",
    "\n",
    "For each extracted element, tag the following:\n",
    "\n",
    "1. **Chapter**: The overarching division of the textbook in which the content is located.\n",
    "2. **Concept**: The specific subsection or topic within a chapter that the content pertains to.\n",
    "3. **Learning Outcome Name**: The most fundamental unit of learning, which is a combination of the concept, the cognitive ability (based on Bloom's taxonomy), and the context. For example:\n",
    "    - **Learning Outcome**: \"Calculating resistance using VI graph\"\n",
    "        - **Cognitive Ability**: Analyse\n",
    "        - **Concept**: Calculating resistance\n",
    "        - **Context**: VI graph\n",
    "\n",
    "4. **Cognitive Ability**: The level of cognitive ability required, based on Bloom's taxonomy (e.g., Remember, Understand, Apply, Analyze, Evaluate, Create).\n",
    "\n",
    "#### Special Instructions for Formulas and Equations:\n",
    "\n",
    "- For any formulas or equations encountered, ensure they are provided in LaTeX format, enclosed in `$$`. For example:\n",
    "    - Equation: $$ E = mc^2 $$\n",
    "    - Formula: $$ \\text{Area of a circle} = \\pi r^2 $$\n",
    "\n",
    "#### Additional Notes:\n",
    "\n",
    "- **Multiple Concepts and Learning Outcomes**: Each page can have multiple concepts, and each concept can have multiple learning outcomes.\n",
    "- **Contextual Awareness**: Ensure the context of each concept and learning outcome is accurately captured, reflecting the specific example, problem, or explanation provided.\n",
    "\n",
    "#### Example of Tagged Content:\n",
    "\n",
    "**Chapter**: Electricity  \n",
    "**Concept**: Ohm's Law  \n",
    "**Learning Outcome Name**: Calculating resistance using VI graph  \n",
    "- **Cognitive Ability**: Analyze  \n",
    "- **Context**: VI graph\n",
    "\n",
    "**Text**: \"Ohm's Law states that the current through a conductor between two points is directly proportional to the voltage across the two points.\"\n",
    "\n",
    "**Image**: [Image of a circuit diagram]\n",
    "\n",
    "**Graph**: [Graph showing Voltage vs. Current]\n",
    "\n",
    "**Table**: \n",
    "| Voltage (V) | Current (I) |\n",
    "|-------------|-------------|\n",
    "| 1           | 0.2         |\n",
    "| 2           | 0.4         |\n",
    "| 3           | 0.6         |\n",
    "\n",
    "**Practice Problems**:\n",
    "1. \"Calculate the resistance if the voltage is 5V and the current is 1A.\"\n",
    "\n",
    "**Examples**:\n",
    "- **Example 1**: \"If the voltage across a resistor is 10V and the current is 2A, the resistance can be calculated using Ohm's Law as follows: $$ R = \\frac{V}{I} = \\frac{10V}{2A} = 5 \\Omega $$\"\n",
    "\"\"\""
   ]
  },
  {
   "cell_type": "markdown",
   "metadata": {},
   "source": [
    "### Adjust the target pages here... (set start_page and end_page to None for all pages)"
   ]
  },
  {
   "cell_type": "code",
   "execution_count": null,
   "metadata": {},
   "outputs": [],
   "source": [
    "start_page = 14\n",
    "end_page = 22\n",
    "\n",
    "target_pages = \"\"\n",
    "if start_page is not None and end_page is not None:\n",
    "    target_pages = \",\".join([str(i) for i in range(start_page, end_page+1)])\n",
    "else:\n",
    "    target_pages = None\n",
    "\n",
    "target_pages"
   ]
  },
  {
   "cell_type": "code",
   "execution_count": null,
   "metadata": {},
   "outputs": [],
   "source": [
    "docs = llama_parse(\n",
    "  result_type=\"markdown\", \n",
    "  target_pages=target_pages, \n",
    "  parsing_instruction=llama_parsing_instruction,\n",
    "  use_vendor_multimodal_model=True,\n",
    "  vendor_multimodal_model_name=\"openai-gpt4o\",\n",
    "  vendor_multimodal_api_key=OPENAI_API_KEY,\n",
    ").load_data(\"book.pdf\")"
   ]
  },
  {
   "cell_type": "markdown",
   "metadata": {},
   "source": [
    "### Metadata addition"
   ]
  },
  {
   "cell_type": "code",
   "execution_count": null,
   "metadata": {},
   "outputs": [],
   "source": [
    "documents = []\n",
    "current_page = start_page or 0\n",
    "for doc in docs:\n",
    "    document = Document(page_content=doc.text)\n",
    "    document.metadata = {\"page\": current_page, \"course_id\": \"1\"}\n",
    "    current_page += 1\n",
    "    documents.append(document)"
   ]
  },
  {
   "cell_type": "code",
   "execution_count": null,
   "metadata": {},
   "outputs": [],
   "source": [
    "documents[0]"
   ]
  },
  {
   "cell_type": "markdown",
   "metadata": {},
   "source": [
    "### Knowledge Graph Generation"
   ]
  },
  {
   "cell_type": "code",
   "execution_count": 6,
   "metadata": {},
   "outputs": [],
   "source": [
    "graph = Neo4jGraph(\n",
    "    username=\"neo4j\",\n",
    "    password=\"password\",\n",
    "    url=\"bolt://localhost:7687\",\n",
    "    database=\"langchain-rag\",\n",
    "    refresh_schema=False,\n",
    ")"
   ]
  },
  {
   "cell_type": "code",
   "execution_count": null,
   "metadata": {},
   "outputs": [],
   "source": [
    "system_prompt = \"\"\"\n",
    "Schema: \n",
    "<Entity: CONCEPT> <Relationship: HAS_OUTCOME> <Entity: LEARNING_OUTCOME>\n",
    "\n",
    "<Entity: LEARNING_OUTCOME> <Relationship: PREREQ_FOR> <Entity: LEARNING_OUTCOME>\n",
    "\n",
    "<Entity: LEARNING_OUCOME> <Relationship: SUPPORTS> <Entity: QUESTION>\n",
    "\n",
    "\n",
    "Follow the above schema to construct graph\n",
    "    \"\"\"\n",
    "\n",
    "template = ChatPromptTemplate([\n",
    "    (\"system\", system_prompt),\n",
    "])"
   ]
  },
  {
   "cell_type": "code",
   "execution_count": 7,
   "metadata": {},
   "outputs": [],
   "source": [
    "llm = ChatOpenAI(temperature=0.5, model_name=\"gpt-4o\")\n",
    "\n",
    "llm_transformer = LLMGraphTransformer(\n",
    "    llm=llm, \n",
    "    allowed_nodes=[\"CONCEPT\", \"LEARNING_OUTCOME\", \"QUESTION\"],\n",
    "    allowed_relationships=[ \"HAS_OUTCOME\", \"PREREQ_FOR\", \"SUPPORTS\"],\n",
    "    relationship_properties=['weight'],\n",
    "    node_properties=['text', 'page', 'course_id'],\n",
    "    strict_mode=False,\n",
    ")"
   ]
  },
  {
   "cell_type": "code",
   "execution_count": null,
   "metadata": {},
   "outputs": [],
   "source": [
    "graph_documents = llm_transformer.convert_to_graph_documents(documents)"
   ]
  },
  {
   "cell_type": "code",
   "execution_count": null,
   "metadata": {},
   "outputs": [],
   "source": [
    "graph.add_graph_documents(graph_documents, baseEntityLabel=True, include_source=True)"
   ]
  },
  {
   "cell_type": "code",
   "execution_count": 8,
   "metadata": {},
   "outputs": [],
   "source": [
    "vector = Neo4jVector.from_existing_graph(\n",
    "    OpenAIEmbeddings(),\n",
    "    node_label='__Entity__',\n",
    "    embedding_node_property='embedding',\n",
    "    text_node_properties=['id', 'page', 'text', 'course_id'],\n",
    "    username=\"neo4j\",\n",
    "    password=\"password\",\n",
    "    url=\"bolt://localhost:7687\",\n",
    "    database=\"langchain-rag\",\n",
    ")"
   ]
  },
  {
   "cell_type": "markdown",
   "metadata": {},
   "source": [
    "### Using RAG as retriever to fetch documents"
   ]
  },
  {
   "cell_type": "code",
   "execution_count": 9,
   "metadata": {},
   "outputs": [
    {
     "data": {
      "text/plain": [
       "[Document(page_content='\\nid: The Fundamental Theorem Of Arithmetic\\npage: \\ntext: The Fundamental Theorem of Arithmetic\\ncourse_id: '),\n",
       " Document(page_content='\\nid: Fundamental Theorem Of Arithmetic\\npage: 1.2\\ntext: The order of prime factors in ascending order makes the factorisation unique.\\ncourse_id: '),\n",
       " Document(page_content='\\nid: Irrational Numbers\\npage: \\ntext: In Class IX, you were introduced to irrational numbers and many of their properties. You studied about their existence and how the rationals and the irrationals together made up the real numbers. You even studied how to locate irrationals on the number line. However, we did not prove that they were irrationals. In this section, we will prove that \\\\( \\\\sqrt{2}, \\\\sqrt{3}, \\\\sqrt{5} \\\\) and, in general, \\\\( \\\\sqrt{p} \\\\) is irrational, where \\\\( p \\\\) is a prime. One of the theorems, we use in our proof, is the Fundamental Theorem of Arithmetic.\\ncourse_id: '),\n",
       " Document(page_content='\\nid: Proof Of Theorem 1.2\\npage: \\ntext: Let the prime factorisation of \\\\( a \\\\) be as follows: \\\\[ a = p_1 p_2 \\\\cdots p_n, \\\\text{ where } p_1, p_2, \\\\cdots, p_n \\\\text{ are primes, not necessarily distinct.} \\\\] Therefore, \\\\[ a^2 = (p_1 p_2 \\\\cdots p_n)(p_1 p_2 \\\\cdots p_n) = p_1^2 p_2^2 \\\\cdots p_n^2. \\\\] Now, we are given that \\\\( p \\\\) divides \\\\( a^2 \\\\). Therefore, from the Fundamental Theorem of Arithmetic, it follows that \\\\( p \\\\) is one of the prime factors of \\\\( a^2 \\\\). However, using the uniqueness part of the Fundamental Theorem of Arithmetic, we realise that the only prime factors of \\\\( a^2 \\\\) are \\\\( p_1, p_2, \\\\cdots, p_n \\\\). So \\\\( p \\\\) is one of \\\\( p_1, p_2, \\\\cdots, p_n \\\\). Now, since \\\\( a = p_1 p_2 \\\\cdots p_n \\\\), \\\\( p \\\\) divides \\\\( a \\\\).\\ncourse_id: ')]"
      ]
     },
     "execution_count": 9,
     "metadata": {},
     "output_type": "execute_result"
    }
   ],
   "source": [
    "retriever = vector.as_retriever()\n",
    "retriever.invoke(\"Fundamental theorem of arithmetic\")"
   ]
  },
  {
   "cell_type": "markdown",
   "metadata": {},
   "source": [
    "## Agent "
   ]
  },
  {
   "cell_type": "markdown",
   "metadata": {},
   "source": [
    "### Tools"
   ]
  },
  {
   "cell_type": "markdown",
   "metadata": {},
   "source": [
    "- Fetch Concepts of a chapter"
   ]
  },
  {
   "cell_type": "code",
   "execution_count": 10,
   "metadata": {},
   "outputs": [],
   "source": [
    "class GetConceptsOfChapterInput(BaseModel):\n",
    "    chapter_name: str = Field(description=\"Chapter name to fetch concepts for\")\n",
    "\n",
    "\n",
    "class GetConceptsOfChapter(BaseTool):\n",
    "    name = \"get_concepts_of_chapter\"\n",
    "    description = \"\"\"\n",
    "    Fetch concepts of a specific chapter from the textbook using provided chapter name\n",
    "    \"\"\"\n",
    "    args_schema: Type[BaseModel] = GetConceptsOfChapterInput\n",
    "\n",
    "    def _run(self, query: str) -> list:\n",
    "        raise NotImplementedError(\"This method is not implemented\")\n",
    "\n",
    "    async def _arun(\n",
    "        self,\n",
    "        chapter_name: str,\n",
    "    ):\n",
    "        chapters_data = [\n",
    "            {\n",
    "                \"concepts\": [\n",
    "                    {\"name\": \"Prime factorization related to decimal expansions\"},\n",
    "                    {\"name\": \"Terminating and non-terminating decimal expansions\"},\n",
    "                    {\n",
    "                        \"name\": \"Proof of irrationality using Fundamental Theorem of Arithmetic\"\n",
    "                    },\n",
    "                    {\"name\": \"Fundamental Theorem of Arithmetic\"},\n",
    "                    {\"name\": \"Euclid's division algorithm\"},\n",
    "                ],\n",
    "                \"name\": \"Real Numbers\",\n",
    "            },\n",
    "            {\n",
    "                \"concepts\": [\n",
    "                    {\"name\": \"Division Algorithm for Polynomials\"},\n",
    "                    {\"name\": \"Geometrical Meaning of the Zeroes of a Polynomial\"},\n",
    "                    {\n",
    "                        \"name\": \"Relationship between Zeroes and Coefficients of a Polynomial\"\n",
    "                    },\n",
    "                    {\"name\": \"Introduction to Polynomials\"},\n",
    "                ],\n",
    "                \"name\": \"Polynomials\",\n",
    "            },\n",
    "            {\n",
    "                \"concepts\": [\n",
    "                    {\"name\": \"Dependent and consistent equations\"},\n",
    "                    {\"name\": \"Graphical method of solution\"},\n",
    "                    {\"name\": \"Elimination method\"},\n",
    "                    {\"name\": \"Consistency and inconsistency of linear equations\"},\n",
    "                    {\"name\": \"Substitution method\"},\n",
    "                ],\n",
    "                \"name\": \"Pair of Linear Equations in Two Variables\",\n",
    "            },\n",
    "            {\n",
    "                \"concepts\": [\n",
    "                    {\"name\": \"Quadratic formula for roots\"},\n",
    "                    {\"name\": \"Solution of quadratic equations by factorisation\"},\n",
    "                    {\"name\": \"Nature of roots\"},\n",
    "                    {\n",
    "                        \"name\": \"Applications of quadratic equations in real-life problems\"\n",
    "                    },\n",
    "                ],\n",
    "                \"name\": \"Quadratic Equations\",\n",
    "            },\n",
    "            {\n",
    "                \"concepts\": [\n",
    "                    {\"name\": \"General form of an AP\"},\n",
    "                    {\"name\": \"nth term of an AP\"},\n",
    "                    {\"name\": \"Definition of Arithmetic Progression (AP)\"},\n",
    "                    {\"name\": \"Sum of first n terms of an AP\"},\n",
    "                ],\n",
    "                \"name\": \"Arithmetic Progressions\",\n",
    "            },\n",
    "            {\n",
    "                \"concepts\": [\n",
    "                    {\"name\": \"Properties of similar triangles\"},\n",
    "                    {\"name\": \"Criteria for similarity of triangles\"},\n",
    "                    {\"name\": \"Similarity of triangles\"},\n",
    "                    {\"name\": \"Similar figures and triangles\"},\n",
    "                ],\n",
    "                \"name\": \"Triangles\",\n",
    "            },\n",
    "            {\n",
    "                \"concepts\": [\n",
    "                    {\"name\": \"Distance formula for points\"},\n",
    "                    {\"name\": \"Section formula for internal division\"},\n",
    "                    {\"name\": \"Graphical interpretation and applications of formulas\"},\n",
    "                ],\n",
    "                \"name\": \"Coordinate Geometry\",\n",
    "            },\n",
    "            {\n",
    "                \"concepts\": [\n",
    "                    {\"name\": \"Trigonometric ratios\"},\n",
    "                    {\n",
    "                        \"name\": \"Specific values of trigonometric ratios at 0°, 30°, 45°, 60°, and 90°\"\n",
    "                    },\n",
    "                    {\"name\": \"Trigonometric identities\"},\n",
    "                    {\n",
    "                        \"name\": \"Examples solving for unknowns using trigonometric ratios\"\n",
    "                    },\n",
    "                ],\n",
    "                \"name\": \"Introduction to Trigonometry\",\n",
    "            },\n",
    "            {\n",
    "                \"concepts\": [{\"name\": \"Heights and Distances\"}],\n",
    "                \"name\": \"Some Applications of Trigonometry\",\n",
    "            },\n",
    "            {\n",
    "                \"concepts\": [\n",
    "                    {\"name\": \"Number of Tangents from a Point on a Circle\"},\n",
    "                    {\"name\": \"Tangent to a Circle\"},\n",
    "                ],\n",
    "                \"name\": \"Circles\",\n",
    "            },\n",
    "            {\n",
    "                \"concepts\": [\n",
    "                    {\"name\": \"Length of an arc of a sector\"},\n",
    "                    {\"name\": \"Area of a segment of a circle\"},\n",
    "                    {\"name\": \"Area of a sector of a circle\"},\n",
    "                ],\n",
    "                \"name\": \"Areas Related to Circles\",\n",
    "            },\n",
    "            {\n",
    "                \"concepts\": [\n",
    "                    {\"name\": \"Surface areas of combinations of basic solids\"},\n",
    "                    {\"name\": \"Volumes of combinations of basic solids\"},\n",
    "                ],\n",
    "                \"name\": \"Surface Areas and Volumes\",\n",
    "            },\n",
    "            {\n",
    "                \"concepts\": [\n",
    "                    {\"name\": \"Mode for grouped data\"},\n",
    "                    {\"name\": \"Median for grouped data\"},\n",
    "                    {\"name\": \"Mean for grouped data\"},\n",
    "                ],\n",
    "                \"name\": \"Statistics\",\n",
    "            },\n",
    "        ]\n",
    "\n",
    "        for chapter_data in chapters_data:\n",
    "            if chapter_data[\"name\"] == chapter_name:\n",
    "                return chapter_data[\"concepts\"]\n",
    "        return None"
   ]
  },
  {
   "cell_type": "markdown",
   "metadata": {},
   "source": [
    "- Fetch contextual data"
   ]
  },
  {
   "cell_type": "code",
   "execution_count": 11,
   "metadata": {},
   "outputs": [],
   "source": [
    "class ContextRetrievalToolInput(BaseModel):\n",
    "    query: str = Field(description=\"Input query string\")\n",
    "\n",
    "class ContextRetrievalTool(BaseTool):\n",
    "    name = \"context_retrieval_tool\"\n",
    "    description = \"Use this tool to fetch context from the textbook via provided query\"\n",
    "    args_schema: Type[BaseModel] = ContextRetrievalToolInput\n",
    "\n",
    "    def _run(self, query: str) -> list:\n",
    "        raise NotImplementedError(\"This method is not implemented\")\n",
    "\n",
    "    async def _arun(\n",
    "        self,\n",
    "        query: str,\n",
    "    ) -> str:\n",
    "        documents = await retriever.ainvoke(query)\n",
    "        context = \"\\n\\n\".join([doc.page_content for doc in documents])\n",
    "        return context\n"
   ]
  },
  {
   "cell_type": "markdown",
   "metadata": {},
   "source": [
    "- Fetch Concepts, LOs and their relationship from structured graph generated earlier for better navigation"
   ]
  },
  {
   "cell_type": "code",
   "execution_count": 12,
   "metadata": {},
   "outputs": [],
   "source": [
    "class GetChapterConceptsLearningOutcomesGraphToolInput(BaseModel):\n",
    "    query: str = Field(description=\"Cypher query to fetch the data from neo4j\")\n",
    "\n",
    "class GetChapterConceptsLearningOutcomesGraphTool(BaseTool):\n",
    "    name = \"get_chapter_concepts_learningoutcomes_graph_tool\"\n",
    "    description = \"\"\"\n",
    "    Use this tool to fetch data about Chapter/Concept/Learning Outcome and their relationships by passing a cypher query\n",
    "    \"\"\"\n",
    "    args_schema: Type[BaseModel] = ContextRetrievalToolInput\n",
    "\n",
    "    def _run(self, query: str) -> list:\n",
    "        raise NotImplementedError(\"This method is not implemented\")\n",
    "\n",
    "    async def _arun(\n",
    "        self,\n",
    "        query: str,\n",
    "    ) -> List[Dict[str, Any]]:\n",
    "        graph = Neo4jGraph(\n",
    "            username=\"neo4j\",\n",
    "            password=\"password\",\n",
    "            url=\"bolt://localhost:7687\",\n",
    "            database=\"neo4j\",\n",
    "        )\n",
    "        data = graph.query(query)\n",
    "        return data"
   ]
  },
  {
   "cell_type": "code",
   "execution_count": 13,
   "metadata": {},
   "outputs": [],
   "source": [
    "chapter_names = [\n",
    "    {\"name\": \"Real Numbers\"},\n",
    "    {\"name\": \"Polynomials\"},\n",
    "    {\"name\": \"Pair of Linear Equations in Two Variables\"},\n",
    "    {\"name\": \"Quadratic Equations\"},\n",
    "    {\"name\": \"Arithmetic Progressions\"},\n",
    "    {\"name\": \"Triangles\"},\n",
    "    {\"name\": \"Coordinate Geometry\"},\n",
    "    {\"name\": \"Introduction to Trigonometry\"},\n",
    "    {\"name\": \"Some Applications of Trigonometry\"},\n",
    "    {\"name\": \"Circles\"},\n",
    "    {\"name\": \"Areas Related to Circles\"},\n",
    "    {\"name\": \"Surface Areas and Volumes\"},\n",
    "    {\"name\": \"Statistics\"},\n",
    "]"
   ]
  },
  {
   "cell_type": "code",
   "execution_count": 14,
   "metadata": {},
   "outputs": [],
   "source": [
    "ai_message = \"\""
   ]
  },
  {
   "cell_type": "markdown",
   "metadata": {},
   "source": [
    "### You can edit the system prompt here "
   ]
  },
  {
   "cell_type": "code",
   "execution_count": 15,
   "metadata": {},
   "outputs": [],
   "source": [
    "async def get_answer(question: str):\n",
    "    tools = [ContextRetrievalTool(), GetChapterConceptsLearningOutcomesGraphTool()]\n",
    "\n",
    "    prompt = ChatPromptTemplate.from_messages(\n",
    "        [\n",
    "            (\n",
    "                \"system\",\n",
    "                \"\"\"\n",
    "                You are a very powerful teacher. You help students learn concepts by first introducing it, discussing real-life examples, and some small quiz to check their understanding. \n",
    "\n",
    "                Follow the steps below:\n",
    "                1. Use `get_concepts_of_chapter` to fetch all the concepts of a chapter by passing chapter name from the provided chapter names data\n",
    "                2. Use the `get_chapter_concepts_learningoutcomes_graph_tool` to fetch structured data around chapter, concepts and their attached learning outcomes.\n",
    "                    -> Relationship details:\n",
    "                        - chapter contains concepts\n",
    "                        - concept contains learning outcomes\n",
    "                        - learning outcomes may/may not be connected to other learning outcomes via prerequisite_of relationship\n",
    "                    -> You can use the chapter name, concept name to identify the chapter or concept node from the graph using name property\n",
    "                    -> Pass this tool a cypher query to fetch the relationships if necessary\n",
    "                3. Use the `context_retrieval_tool` to fetch contextual data from the textbook user wants to learn from.\n",
    "                \"\"\",\n",
    "            ),\n",
    "            (\"ai\", ai_message),\n",
    "            (\"user\", \"Chapter Names: {chapter_names}\\n Question: {question} \"),\n",
    "            MessagesPlaceholder(variable_name=\"agent_scratchpad\"),\n",
    "        ]\n",
    "    )\n",
    "\n",
    "    agent = create_tool_calling_agent(\n",
    "        llm,\n",
    "        tools,\n",
    "        prompt,\n",
    "    )\n",
    "\n",
    "    agent_executor = AgentExecutor(agent=agent, tools=tools, verbose=True)\n",
    "    chapter_names_str = f\"{chapter_names}\".replace(\"{\", \"{{\").replace(\"}\", \"}}\")\n",
    "    response = await agent_executor.ainvoke({\"question\": question, \"chapter_names\":chapter_names_str })\n",
    "    output = response[\"output\"]\n",
    "    return output"
   ]
  },
  {
   "cell_type": "markdown",
   "metadata": {},
   "source": [
    "### Q&A"
   ]
  },
  {
   "cell_type": "code",
   "execution_count": 16,
   "metadata": {},
   "outputs": [],
   "source": [
    "question = \"Teach me first chapter's first concept\""
   ]
  },
  {
   "cell_type": "code",
   "execution_count": 17,
   "metadata": {},
   "outputs": [
    {
     "name": "stdout",
     "output_type": "stream",
     "text": [
      "\n",
      "\n",
      "\u001b[1m> Entering new AgentExecutor chain...\u001b[0m\n",
      "\u001b[32;1m\u001b[1;3m\n",
      "Invoking: `get_concepts_of_chapter` with `{'chapter': 'Real Numbers'}`\n",
      "\n",
      "\n",
      "\u001b[0mget_concepts_of_chapter is not a valid tool, try one of [context_retrieval_tool, get_chapter_concepts_learningoutcomes_graph_tool].\u001b[32;1m\u001b[1;3m\n",
      "Invoking: `get_chapter_concepts_learningoutcomes_graph_tool` with `{'query': \"MATCH (c:Chapter {name: 'Real Numbers'})-[:CONTAINS]->(concept:Concept) RETURN concept.name ORDER BY concept.name LIMIT 1\"}`\n",
      "\n",
      "\n",
      "\u001b[0m\u001b[33;1m\u001b[1;3m[{'concept.name': \"Euclid's division algorithm\"}]\u001b[0m\u001b[32;1m\u001b[1;3m\n",
      "Invoking: `get_chapter_concepts_learningoutcomes_graph_tool` with `{'query': 'MATCH (c:Concept {name: \"Euclid\\'s division algorithm\"})-[:CONTAINS]->(lo:LearningOutcome) RETURN c, lo'}`\n",
      "\n",
      "\n",
      "\u001b[0m\u001b[33;1m\u001b[1;3m[{'c': {'name': \"Euclid's division algorithm\"}, 'lo': {'name': \"Evaluate the computational complexity of finding HCF using Euclid's division algorithm compared to prime factorization.\", 'cognitive_ability': 'EVALUATE'}}, {'c': {'name': \"Euclid's division algorithm\"}, 'lo': {'name': \"Analyze how changes in the values of numbers affect the steps and result of Euclid's division algorithm.\", 'cognitive_ability': 'ANALYZE'}}, {'c': {'name': \"Euclid's division algorithm\"}, 'lo': {'name': \"Determine the HCF of any two positive integers using Euclid's division algorithm as illustrated in examples.\", 'cognitive_ability': 'APPLY'}}, {'c': {'name': \"Euclid's division algorithm\"}, 'lo': {'name': \"Explain why Euclid's division algorithm is efficient for computing the HCF of two integers.\", 'cognitive_ability': 'UNDERSTAND'}}, {'c': {'name': \"Euclid's division algorithm\"}, 'lo': {'name': \"Identify and describe the process of Euclid's division algorithm.\", 'cognitive_ability': 'REMEMBER'}}]\u001b[0m\u001b[32;1m\u001b[1;3m\n",
      "Invoking: `context_retrieval_tool` with `{'query': \"Euclid's division algorithm\"}`\n",
      "\n",
      "\n",
      "\u001b[0m\u001b[36;1m\u001b[1;3m\n",
      "id: Euclid’S Division Algorithm\n",
      "page: \n",
      "text: Euclid’s division algorithm\n",
      "course_id: \n",
      "\n",
      "\n",
      "id: Theorem 1.2\n",
      "page: \n",
      "text: Let \\( p \\) be a prime number. If \\( p \\) divides \\( a^2 \\), then \\( p \\) divides \\( a \\), where \\( a \\) is a positive integer.\n",
      "course_id: \n",
      "\n",
      "\n",
      "id: Proof Of Theorem 1.2\n",
      "page: \n",
      "text: Let the prime factorisation of \\( a \\) be as follows: \\[ a = p_1 p_2 \\cdots p_n, \\text{ where } p_1, p_2, \\cdots, p_n \\text{ are primes, not necessarily distinct.} \\] Therefore, \\[ a^2 = (p_1 p_2 \\cdots p_n)(p_1 p_2 \\cdots p_n) = p_1^2 p_2^2 \\cdots p_n^2. \\] Now, we are given that \\( p \\) divides \\( a^2 \\). Therefore, from the Fundamental Theorem of Arithmetic, it follows that \\( p \\) is one of the prime factors of \\( a^2 \\). However, using the uniqueness part of the Fundamental Theorem of Arithmetic, we realise that the only prime factors of \\( a^2 \\) are \\( p_1, p_2, \\cdots, p_n \\). So \\( p \\) is one of \\( p_1, p_2, \\cdots, p_n \\). Now, since \\( a = p_1 p_2 \\cdots p_n \\), \\( p \\) divides \\( a \\).\n",
      "course_id: \n",
      "\n",
      "\n",
      "id: Fundamental Theorem Of Arithmetic\n",
      "page: 1.2\n",
      "text: The order of prime factors in ascending order makes the factorisation unique.\n",
      "course_id: \u001b[0m\u001b[32;1m\u001b[1;3m### Introduction to Euclid's Division Algorithm\n",
      "\n",
      "Euclid's Division Algorithm is a method to compute the Highest Common Factor (HCF) of two given positive integers. The algorithm is based on the principle that the HCF of two numbers also divides their difference. \n",
      "\n",
      "### Real-life Example\n",
      "\n",
      "Imagine you have two pieces of ribbon, one 24 meters long and the other 36 meters long. You want to cut both ribbons into pieces of equal length without any leftover. The longest length of each piece would be the HCF of 24 and 36. Using Euclid's Division Algorithm, you can find this HCF efficiently.\n",
      "\n",
      "### Concept Learning Outcomes\n",
      "\n",
      "1. **Identify and describe the process of Euclid's division algorithm.** (REMEMBER)\n",
      "2. **Explain why Euclid's division algorithm is efficient for computing the HCF of two integers.** (UNDERSTAND)\n",
      "3. **Determine the HCF of any two positive integers using Euclid's division algorithm as illustrated in examples.** (APPLY)\n",
      "4. **Analyze how changes in the values of numbers affect the steps and result of Euclid's division algorithm.** (ANALYZE)\n",
      "5. **Evaluate the computational complexity of finding HCF using Euclid's division algorithm compared to prime factorization.** (EVALUATE)\n",
      "\n",
      "### Detailed Explanation\n",
      "\n",
      "#### Identify and Describe the Process of Euclid's Division Algorithm\n",
      "\n",
      "The algorithm can be described in the following steps:\n",
      "\n",
      "1. Given two positive integers \\( a \\) and \\( b \\) where \\( a > b \\), perform the division \\( a = bq + r \\).\n",
      "2. Replace \\( a \\) with \\( b \\) and \\( b \\) with \\( r \\).\n",
      "3. Repeat the process until \\( r = 0 \\).\n",
      "\n",
      "The non-zero remainder at the last step is the HCF of \\( a \\) and \\( b \\).\n",
      "\n",
      "#### Why is Euclid's Division Algorithm Efficient?\n",
      "\n",
      "Euclid's division algorithm is efficient because it reduces the problem size significantly at each step. Instead of checking all possible divisors, it successively reduces the size of the numbers involved.\n",
      "\n",
      "#### Example Calculation\n",
      "\n",
      "To find the HCF of 24 and 36:\n",
      "1. \\( 36 = 24 \\times 1 + 12 \\)\n",
      "2. \\( 24 = 12 \\times 2 + 0 \\)\n",
      "\n",
      "Since the remainder is now 0, the HCF is 12.\n",
      "\n",
      "#### Analyzing Changes in Values\n",
      "\n",
      "If you change the values of the numbers, the steps may vary, but the process remains the same. For example, if you use 48 and 18:\n",
      "1. \\( 48 = 18 \\times 2 + 12 \\)\n",
      "2. \\( 18 = 12 \\times 1 + 6 \\)\n",
      "3. \\( 12 = 6 \\times 2 + 0 \\)\n",
      "\n",
      "The HCF is 6.\n",
      "\n",
      "#### Evaluating Computational Complexity\n",
      "\n",
      "Compared to prime factorization, Euclid's algorithm is more efficient because it requires fewer operations. Prime factorization involves finding all prime factors, which can be computationally expensive for large numbers.\n",
      "\n",
      "### Small Quiz\n",
      "\n",
      "1. What is the first step in Euclid's Division Algorithm?\n",
      "2. Why is Euclid's Division Algorithm considered efficient?\n",
      "3. Find the HCF of 56 and 98 using Euclid's Division Algorithm.\n",
      "4. How does changing the values of the numbers affect the algorithm?\n",
      "5. Compare the computational complexity of Euclid's algorithm with prime factorization.\n",
      "\n",
      "Feel free to ask if you need further explanations or have any questions!\u001b[0m\n",
      "\n",
      "\u001b[1m> Finished chain.\u001b[0m\n"
     ]
    },
    {
     "data": {
      "text/plain": [
       "\"### Introduction to Euclid's Division Algorithm\\n\\nEuclid's Division Algorithm is a method to compute the Highest Common Factor (HCF) of two given positive integers. The algorithm is based on the principle that the HCF of two numbers also divides their difference. \\n\\n### Real-life Example\\n\\nImagine you have two pieces of ribbon, one 24 meters long and the other 36 meters long. You want to cut both ribbons into pieces of equal length without any leftover. The longest length of each piece would be the HCF of 24 and 36. Using Euclid's Division Algorithm, you can find this HCF efficiently.\\n\\n### Concept Learning Outcomes\\n\\n1. **Identify and describe the process of Euclid's division algorithm.** (REMEMBER)\\n2. **Explain why Euclid's division algorithm is efficient for computing the HCF of two integers.** (UNDERSTAND)\\n3. **Determine the HCF of any two positive integers using Euclid's division algorithm as illustrated in examples.** (APPLY)\\n4. **Analyze how changes in the values of numbers affect the steps and result of Euclid's division algorithm.** (ANALYZE)\\n5. **Evaluate the computational complexity of finding HCF using Euclid's division algorithm compared to prime factorization.** (EVALUATE)\\n\\n### Detailed Explanation\\n\\n#### Identify and Describe the Process of Euclid's Division Algorithm\\n\\nThe algorithm can be described in the following steps:\\n\\n1. Given two positive integers \\\\( a \\\\) and \\\\( b \\\\) where \\\\( a > b \\\\), perform the division \\\\( a = bq + r \\\\).\\n2. Replace \\\\( a \\\\) with \\\\( b \\\\) and \\\\( b \\\\) with \\\\( r \\\\).\\n3. Repeat the process until \\\\( r = 0 \\\\).\\n\\nThe non-zero remainder at the last step is the HCF of \\\\( a \\\\) and \\\\( b \\\\).\\n\\n#### Why is Euclid's Division Algorithm Efficient?\\n\\nEuclid's division algorithm is efficient because it reduces the problem size significantly at each step. Instead of checking all possible divisors, it successively reduces the size of the numbers involved.\\n\\n#### Example Calculation\\n\\nTo find the HCF of 24 and 36:\\n1. \\\\( 36 = 24 \\\\times 1 + 12 \\\\)\\n2. \\\\( 24 = 12 \\\\times 2 + 0 \\\\)\\n\\nSince the remainder is now 0, the HCF is 12.\\n\\n#### Analyzing Changes in Values\\n\\nIf you change the values of the numbers, the steps may vary, but the process remains the same. For example, if you use 48 and 18:\\n1. \\\\( 48 = 18 \\\\times 2 + 12 \\\\)\\n2. \\\\( 18 = 12 \\\\times 1 + 6 \\\\)\\n3. \\\\( 12 = 6 \\\\times 2 + 0 \\\\)\\n\\nThe HCF is 6.\\n\\n#### Evaluating Computational Complexity\\n\\nCompared to prime factorization, Euclid's algorithm is more efficient because it requires fewer operations. Prime factorization involves finding all prime factors, which can be computationally expensive for large numbers.\\n\\n### Small Quiz\\n\\n1. What is the first step in Euclid's Division Algorithm?\\n2. Why is Euclid's Division Algorithm considered efficient?\\n3. Find the HCF of 56 and 98 using Euclid's Division Algorithm.\\n4. How does changing the values of the numbers affect the algorithm?\\n5. Compare the computational complexity of Euclid's algorithm with prime factorization.\\n\\nFeel free to ask if you need further explanations or have any questions!\""
      ]
     },
     "execution_count": 17,
     "metadata": {},
     "output_type": "execute_result"
    }
   ],
   "source": [
    "answer = await get_answer(question)\n",
    "ai_message = f\"{answer}\".replace(\"{\", \"{{\").replace(\"}\", \"}}\")\n",
    "answer"
   ]
  }
 ],
 "metadata": {
  "kernelspec": {
   "display_name": "venv",
   "language": "python",
   "name": "python3"
  },
  "language_info": {
   "codemirror_mode": {
    "name": "ipython",
    "version": 3
   },
   "file_extension": ".py",
   "mimetype": "text/x-python",
   "name": "python",
   "nbconvert_exporter": "python",
   "pygments_lexer": "ipython3",
   "version": "3.12.4"
  }
 },
 "nbformat": 4,
 "nbformat_minor": 2
}
